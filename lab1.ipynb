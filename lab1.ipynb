{
  "nbformat": 4,
  "nbformat_minor": 0,
  "metadata": {
    "colab": {
      "provenance": [],
      "authorship_tag": "ABX9TyPYsPPEacehrRi49Sobkkv2",
      "include_colab_link": true
    },
    "kernelspec": {
      "name": "python3",
      "display_name": "Python 3"
    },
    "language_info": {
      "name": "python"
    }
  },
  "cells": [
    {
      "cell_type": "markdown",
      "metadata": {
        "id": "view-in-github",
        "colab_type": "text"
      },
      "source": [
        "<a href=\"https://colab.research.google.com/github/ThanhQuyen1/ML/blob/main/lab1.ipynb\" target=\"_parent\"><img src=\"https://colab.research.google.com/assets/colab-badge.svg\" alt=\"Open In Colab\"/></a>"
      ]
    },
    {
      "cell_type": "markdown",
      "source": [
        "## **Task 1. Python Programming**"
      ],
      "metadata": {
        "id": "alnhVyK8zvuE"
      }
    },
    {
      "cell_type": "code",
      "execution_count": null,
      "metadata": {
        "id": "vt_bZ7nHC0dN"
      },
      "outputs": [],
      "source": [
        "#1.1\n",
        "import numpy as np\n",
        "n = int(input(\"enter n: \"))\n",
        "L = []\n",
        "for i in range(n):\n",
        "  x = int(input(\"enter x: \"))\n",
        "  L.append(x)\n",
        "#print(L)\n",
        "\n"
      ]
    },
    {
      "cell_type": "code",
      "source": [
        "def findMax(L):\n",
        "  max_value = max(L)\n",
        "  print(\"max: \", max_value)"
      ],
      "metadata": {
        "id": "-keo9zbpNxq3"
      },
      "execution_count": null,
      "outputs": []
    },
    {
      "cell_type": "code",
      "source": [
        "def findMin(L):\n",
        "  min_value = min(L)\n",
        "  print(\"min: \", min_value)"
      ],
      "metadata": {
        "id": "7UreGkmjO6US"
      },
      "execution_count": null,
      "outputs": []
    },
    {
      "cell_type": "code",
      "source": [
        "\n",
        "def totalN(L):\n",
        "    sum_value = my_sum(L)\n",
        "    print(\"Sum: \", sum_value)\n",
        "\n",
        "def my_sum(L):\n",
        "    return sum(L)"
      ],
      "metadata": {
        "id": "mLQlo3DsP9CI"
      },
      "execution_count": null,
      "outputs": []
    },
    {
      "cell_type": "code",
      "source": [
        "#test\n",
        "# findMax(L)\n",
        "# findMin(L)\n",
        "totalN(L)"
      ],
      "metadata": {
        "id": "_6aI5_dkPnZ8"
      },
      "execution_count": null,
      "outputs": []
    },
    {
      "cell_type": "code",
      "source": [
        "#1.2\n",
        "def sum_series(n):\n",
        "    result = 0\n",
        "    product = 1\n",
        "    for i in range(1, n + 1):\n",
        "        product *= i\n",
        "        result += product\n",
        "    return result\n",
        "n = int(input(\"enter n: \"))\n",
        "print(sum_series(n))"
      ],
      "metadata": {
        "id": "z7VgfJAi_99x"
      },
      "execution_count": null,
      "outputs": []
    },
    {
      "cell_type": "code",
      "source": [
        "#1.3\n",
        "class Post:\n",
        "  def __init__(self, content, subject, likes):\n",
        "    self.content = content\n",
        "    self.subject = subject\n",
        "    self.likes = likes\n",
        "\n",
        "  def __repr__(self):\n",
        "    return f\"Post(content={self.content}, subject={self.subject}, likes={self.likes})\"\n",
        "\n",
        "  def get_likes(self):\n",
        "    return self.likes"
      ],
      "metadata": {
        "id": "gazGmjkdy3Hj"
      },
      "execution_count": null,
      "outputs": []
    },
    {
      "cell_type": "code",
      "source": [
        "from abc import ABC, abstractmethod\n",
        "\n",
        "class Account(ABC):\n",
        "  def __init__(self, name, email, country):\n",
        "    self.name = name\n",
        "    self.email = email\n",
        "    self.country = country\n",
        "    self.friends = []\n",
        "    self.posts = []\n",
        "\n",
        "  def add_friend(self, account):\n",
        "    self.friends.append(account)\n",
        "\n",
        "  def add_post(self, post):\n",
        "    self.posts.append(post)\n",
        "  def get_name(self):\n",
        "    return self.name\n",
        "  def get_posts(self):\n",
        "    return len(self.posts)\n",
        "\n",
        "  def getMaxLikePostByFriend(self):\n",
        "    re = self.friends[0]\n",
        "    max = 0\n",
        "    for friend in self.friends[1:len(self.friends)]:\n",
        "      for post in self.posts[1:len(self.posts)]:\n",
        "        if max < post.get_likes():\n",
        "          max = post.get_likes\n",
        "          re = friend\n",
        "    return re\n"
      ],
      "metadata": {
        "id": "2I7ichEd05cF"
      },
      "execution_count": null,
      "outputs": []
    },
    {
      "cell_type": "code",
      "source": [
        "class VerifiedAccount(Account):\n",
        "  def __init__(self,name, email, country, fromDate ):\n",
        "    super().__init__(name, email, country)\n",
        "    self._fromDate = fromDate\n",
        "  def __repr__(self):\n",
        "    friend_list = ', '.join([friend.name for friend in self.friends])\n",
        "    post_list = ', '.join([str(post) for post in self.posts])\n",
        "    return f\"Account(name={self.name}, email={self.email}, country={self.country}, fromDate={self._fromDate}, friends=[{friend_list}], posts=[{post_list}])\"\n"
      ],
      "metadata": {
        "id": "pwcaBGxp1g8q"
      },
      "execution_count": null,
      "outputs": []
    },
    {
      "cell_type": "code",
      "source": [
        "class NormalProduct(Account):\n",
        "  def __init__(self, name, email, country):\n",
        "    super().__init__(name, email, country)\n",
        "  def __repr__(self):\n",
        "    friend_list = ', '.join([friend.name for friend in self.friends])\n",
        "    post_list = ', '.join([str(post) for post in self.posts])\n",
        "    return f\"Account(name={self.name}, email={self.email}, country={self.country}, friends=[{friend_list}], posts=[{post_list}])\"\n"
      ],
      "metadata": {
        "id": "gwAEVNfq2JOx"
      },
      "execution_count": null,
      "outputs": []
    },
    {
      "cell_type": "code",
      "source": [
        "\n",
        "class AccountManager:\n",
        "  def __init__(self):\n",
        "    self.accounts = list()\n",
        "\n",
        "  def add_account(self, account):\n",
        "    self.accounts.append(account)\n",
        "  def __repr__(self):\n",
        "    account_list = ', '.join([str(account) for account in self.accounts])\n",
        "    return f\"account=[{account_list}]\"\n",
        "\n",
        "  def groupAccountsByPostLike(self):\n",
        "    acc_dict = {}\n",
        "    listTrue = []\n",
        "    listFalse = []\n",
        "    for acc in self.accounts:\n",
        "      if len(acc.posts) >10:\n",
        "        listTrue.append(acc)\n",
        "      else:\n",
        "        listFalse.append(acc)\n",
        "    acc_dict[True] = listTrue\n",
        "    acc_dict[False] = listFalse\n",
        "    return acc_dict\n",
        "\n",
        "  def filterAccounts(self, country):\n",
        "    acc_set = set()\n",
        "    for acc in self.accounts:\n",
        "      if acc.country == country:\n",
        "        acc_set.add(acc)\n",
        "    sorted_acc = sorted(acc_set, key= lambda  x: (-x.get_posts(), x.get_name()))\n",
        "    return sorted_acc\n"
      ],
      "metadata": {
        "id": "STQ1YnxxcnhL"
      },
      "execution_count": null,
      "outputs": []
    },
    {
      "cell_type": "code",
      "source": [
        "#test\n",
        "# Post\n",
        "p1 = Post(\"hom nay di choi vui vaiz\", \"di choi\", 7)\n",
        "p2 = Post(\"di an khong\", \"an\", 9)\n",
        "p3 = Post(\"khong co gi choi\", \"chan\", 5)\n",
        "p4 = Post(\"chua an gi nua\", \"doi\", 3)\n",
        "p6 = Post(\"nay bi cho leo cay\", \"bun\", 1)\n",
        "p7 = Post(\"nay bi cho leo cay\", \"bun\", 4)\n",
        "p8 = Post(\"nay bi cho leo cay\", \"bun\", 2)\n",
        "p9 = Post(\"nay bi cho leo cay\", \"bun\", 6)\n",
        "\n",
        "\n",
        "# account\n",
        "\n",
        "acc1 = VerifiedAccount(\"Quyen\", \"quyen@gmail.com\", \"Vietnam\", \"24/03/2022\")\n",
        "acc2 = NormalProduct(\"Quy\", \"quy@gmail.com\", \"France\")\n",
        "acc3 = VerifiedAccount(\"Phat\", \"phat@gmail.com\", \"Japan\", \"22/02/2023\")\n",
        "acc4 = NormalProduct(\"Sang\", \"sang@gmail.com\", \"China\")\n",
        "\n",
        "acc1.add_friend(acc2)\n",
        "acc1.add_friend(acc3)\n",
        "acc2.add_friend(acc1)\n",
        "acc2.add_friend(acc4)\n",
        "acc3.add_friend(acc1)\n",
        "acc3.add_friend(acc2)\n",
        "acc4.add_friend(acc2)\n",
        "acc4.add_friend(acc3)\n",
        "\n",
        "acc1.add_post(p1)\n",
        "acc1.add_post(p6)\n",
        "acc2.add_post(p2)\n",
        "acc2.add_post(p7)\n",
        "acc3.add_post(p3)\n",
        "acc3.add_post(p8)\n",
        "acc4.add_post(p4)\n",
        "acc4.add_post(p9)\n",
        "\n",
        "# s = len(acc1.posts)\n",
        "# print(s)\n",
        "# print(acc1)\n",
        "\n",
        "# result = acc1.getMaxLikePostByFriend()\n",
        "# print(f\"Bài viết có lượt thích cao nhất của bạn bè của {acc1.get_name()} là của {result}\")\n",
        "\n",
        "accountManager = AccountManager();\n",
        "accountManager.add_account(acc1)\n",
        "accountManager.add_account(acc2)\n",
        "accountManager.add_account(acc3)\n",
        "accountManager.add_account(acc4)\n",
        "\n",
        "# print(accountManager)\n",
        "\n",
        "# accountManager.groupAccountsByPostLike()\n",
        "\n",
        "accountManager.filterAccounts(\"Japan\")\n"
      ],
      "metadata": {
        "id": "hKcJUx-p9JNk"
      },
      "execution_count": null,
      "outputs": []
    },
    {
      "cell_type": "markdown",
      "source": [
        "# **Task 2. NumPy API**"
      ],
      "metadata": {
        "id": "_tgzF2rc0RTk"
      }
    },
    {
      "cell_type": "code",
      "source": [
        "#2.1\n",
        "import numpy as np\n",
        "array = np.arange(10,26,1)\n",
        "array[ : :-1]"
      ],
      "metadata": {
        "id": "Bwu3MrbpCuwu"
      },
      "execution_count": null,
      "outputs": []
    },
    {
      "cell_type": "code",
      "source": [
        "#2.2\n",
        "import numpy as np\n",
        "array = np.array([1, 2, 3, 4])\n",
        "np.tile(array, 2)"
      ],
      "metadata": {
        "id": "S38gZmM6NbjQ"
      },
      "execution_count": null,
      "outputs": []
    },
    {
      "cell_type": "code",
      "source": [
        "#2.3\n",
        "import numpy as np\n",
        "array = np.array([(0.42, 0.48, 0.32), (0.74, 0.58, 0.34), (0.54, 0.34, 0.15)])\n",
        "array[array > 0.5] = 0.5\n",
        "print(array)"
      ],
      "metadata": {
        "id": "RpDwkbu0NmlL"
      },
      "execution_count": null,
      "outputs": []
    }
  ]
}