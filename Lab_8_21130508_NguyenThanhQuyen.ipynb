{
  "nbformat": 4,
  "nbformat_minor": 0,
  "metadata": {
    "colab": {
      "provenance": [],
      "include_colab_link": true
    },
    "kernelspec": {
      "name": "python3",
      "display_name": "Python 3"
    },
    "language_info": {
      "name": "python"
    }
  },
  "cells": [
    {
      "cell_type": "markdown",
      "metadata": {
        "id": "view-in-github",
        "colab_type": "text"
      },
      "source": [
        "<a href=\"https://colab.research.google.com/github/ThanhQuyen1/ML/blob/main/Lab_8_21130508_NguyenThanhQuyen.ipynb\" target=\"_parent\"><img src=\"https://colab.research.google.com/assets/colab-badge.svg\" alt=\"Open In Colab\"/></a>"
      ]
    },
    {
      "cell_type": "markdown",
      "source": [
        "The main aim of this lab is to deal with the **pipeline** technique and **MultilayerPerceptron** algorithm\n",
        "\n",
        "*   **Deadline: 23:59, 06/5/2024**\n",
        "\n"
      ],
      "metadata": {
        "id": "LMzehe0sy5wr"
      }
    },
    {
      "cell_type": "markdown",
      "source": [
        "# Import libraries"
      ],
      "metadata": {
        "id": "H4nJmxp9zGX4"
      }
    },
    {
      "cell_type": "code",
      "execution_count": 34,
      "metadata": {
        "id": "DoVWQ8AEyc-C"
      },
      "outputs": [],
      "source": [
        "# code\n",
        "# code\n",
        "import numpy as np\n",
        "import pandas as pd\n",
        "import matplotlib.pyplot as plt\n",
        "import seaborn as sns\n",
        "import seaborn as sns\n",
        "import matplotlib.ticker as ticker\n",
        "from sklearn import metrics\n",
        "from sklearn.model_selection import train_test_split\n",
        "import matplotlib.pylab as plt\n",
        "from sklearn import svm\n",
        "from sklearn.neighbors import KNeighborsClassifier\n",
        "from sklearn.linear_model import LinearRegression,LogisticRegression\n",
        "from sklearn.tree import DecisionTreeClassifier\n",
        "from sklearn.metrics import classification_report, confusion_matrix\n",
        "from prettytable import PrettyTable\n",
        "from sklearn.metrics import accuracy_score\n",
        "from sklearn.metrics import precision_score\n",
        "from sklearn.metrics import recall_score\n",
        "from sklearn.metrics import f1_score\n",
        "from sklearn.model_selection import GridSearchCV\n",
        "from sklearn import datasets\n",
        "from sklearn.ensemble import RandomForestClassifier\n",
        "from sklearn.datasets import load_iris\n",
        "from sklearn.pipeline import Pipeline\n",
        "from sklearn.impute import SimpleImputer\n",
        "from sklearn.preprocessing import StandardScaler,KBinsDiscretizer\n",
        "from sklearn.decomposition import PCA\n",
        "from sklearn.feature_selection import SelectKBest\n",
        "from sklearn.ensemble import RandomForestClassifier\n",
        "from sklearn.neighbors import KNeighborsClassifier\n",
        "from sklearn.naive_bayes import GaussianNB\n",
        "from sklearn.neural_network import MLPClassifier"
      ]
    },
    {
      "cell_type": "markdown",
      "source": [
        "#Task 1. With **iris** dataset\n",
        "*  Apply **pipeline** including preprocessing steps (i.e., **StandardScaler**, **SimpleImputer**, **feature selection**, **KBinsDiscretizer**, …) and classification algorithms (i.e., **Random forest, kNN, Naïve Bayes**).\n"
      ],
      "metadata": {
        "id": "x_dG9SA5OhGT"
      }
    },
    {
      "cell_type": "code",
      "source": [
        "#code\n",
        "iris = load_iris()\n",
        "X = iris.data\n",
        "y = iris.target\n",
        "\n",
        "X_train, X_test, y_train, y_test = train_test_split(X, y, test_size=0.3, random_state=42)\n",
        "\n",
        "pipeline_rf = Pipeline([\n",
        "    ('standar_scaler',StandardScaler()),\n",
        "    ('simple_imputer',SimpleImputer(strategy='mean')),\n",
        "    ('select_k_best',SelectKBest(k='all')),\n",
        "    ('pca', PCA(n_components=4)),\n",
        "    ('rf_classifer',RandomForestClassifier(n_estimators=100)),\n",
        "])\n",
        "\n",
        "pipeline_rf.fit(X_train, y_train)\n",
        "y_pred = pipeline_rf.predict(X_test)\n",
        "\n",
        "accuracy_rf = accuracy_score(y_test, y_pred)\n",
        "precision_rf = precision_score(y_test, y_pred, average='macro')\n",
        "recall_rf = recall_score(y_test, y_pred, average='macro')\n",
        "f1_rf= f1_score(y_test, y_pred, average='macro')"
      ],
      "metadata": {
        "id": "62jExOZ952fF"
      },
      "execution_count": 35,
      "outputs": []
    },
    {
      "cell_type": "code",
      "source": [
        "pipeline_kNN = Pipeline([\n",
        "    ('standar_scaler',StandardScaler()),\n",
        "    ('simple_imputer',SimpleImputer(strategy='mean')),\n",
        "    ('select_k_best',SelectKBest(k='all')),\n",
        "    ('pca', PCA(n_components=4)),\n",
        "    ('kNN_classifer',KNeighborsClassifier(n_neighbors=3)),\n",
        "])\n",
        "\n",
        "pipeline_kNN.fit(X_train, y_train)\n",
        "y_pred = pipeline_kNN.predict(X_test)\n",
        "\n",
        "accuracy_kNN = accuracy_score(y_test, y_pred)\n",
        "precision_kNN = precision_score(y_test, y_pred, average='macro')\n",
        "recall_kNN = recall_score(y_test, y_pred, average='macro')\n",
        "f1_kNN= f1_score(y_test, y_pred, average='macro')"
      ],
      "metadata": {
        "id": "UGFqFeNhY4iB"
      },
      "execution_count": 36,
      "outputs": []
    },
    {
      "cell_type": "code",
      "source": [
        "pipeline_Gau = Pipeline([\n",
        "    ('standar_scaler',StandardScaler()),\n",
        "    ('simple_imputer',SimpleImputer(strategy='mean')),\n",
        "    ('select_k_best',SelectKBest(k='all')),\n",
        "    ('pca', PCA(n_components=4)),\n",
        "    ('Gau_classifer',GaussianNB()),\n",
        "])\n",
        "\n",
        "pipeline_Gau.fit(X_train, y_train)\n",
        "y_pred = pipeline_Gau.predict(X_test)\n",
        "\n",
        "accuracy_Gau = accuracy_score(y_test, y_pred)\n",
        "precision_Gau = precision_score(y_test, y_pred, average='macro')\n",
        "recall_Gau = recall_score(y_test, y_pred, average='macro')\n",
        "f1_Gau= f1_score(y_test, y_pred, average='macro')"
      ],
      "metadata": {
        "id": "tnLERPF9ZYBn"
      },
      "execution_count": 37,
      "outputs": []
    },
    {
      "cell_type": "code",
      "source": [
        "table = PrettyTable()\n",
        "table.field_names = ['ALGORITHM', 'ACC','PRE','RECALL', 'F1']\n",
        "table.add_row(['kNN', accuracy_kNN, precision_kNN, recall_kNN, f1_kNN])\n",
        "table.add_row(['Random Forest', accuracy_rf, precision_rf, recall_rf, f1_rf])\n",
        "table.add_row(['Naive_bayes:GaussianNB', accuracy_Gau, precision_Gau, recall_Gau, f1_Gau])\n",
        "print(table)"
      ],
      "metadata": {
        "colab": {
          "base_uri": "https://localhost:8080/",
          "height": 0
        },
        "id": "MH40L_SnZtLH",
        "outputId": "a24856ab-47ee-42cb-ef16-921d368129b5"
      },
      "execution_count": 38,
      "outputs": [
        {
          "output_type": "stream",
          "name": "stdout",
          "text": [
            "+------------------------+--------------------+--------+-------------------+--------------------+\n",
            "|       ALGORITHM        |        ACC         |  PRE   |       RECALL      |         F1         |\n",
            "+------------------------+--------------------+--------+-------------------+--------------------+\n",
            "|          kNN           |        1.0         |  1.0   |        1.0        |        1.0         |\n",
            "|     Random Forest      |        1.0         |  1.0   |        1.0        |        1.0         |\n",
            "| Naive_bayes:GaussianNB | 0.9333333333333333 | 0.9375 | 0.923076923076923 | 0.9220389805097451 |\n",
            "+------------------------+--------------------+--------+-------------------+--------------------+\n"
          ]
        }
      ]
    },
    {
      "cell_type": "markdown",
      "source": [
        "#Task 2. With **fashion** dataset\n",
        "*   2.1. Apply **MultilayerPerceptron** classification with 1 hidden layer\n",
        "having 10 nodes"
      ],
      "metadata": {
        "id": "kNv07ARGzOUm"
      }
    },
    {
      "cell_type": "code",
      "source": [
        "from google.colab import drive\n",
        "drive.mount('/content/gdrive')\n",
        "%cd '/content/gdrive/MyDrive/dataLab6'"
      ],
      "metadata": {
        "colab": {
          "base_uri": "https://localhost:8080/",
          "height": 0
        },
        "id": "XOEbMjxKbcM-",
        "outputId": "36ec87c7-5ec1-4c99-ba5e-58273b9605eb"
      },
      "execution_count": 39,
      "outputs": [
        {
          "output_type": "stream",
          "name": "stdout",
          "text": [
            "Drive already mounted at /content/gdrive; to attempt to forcibly remount, call drive.mount(\"/content/gdrive\", force_remount=True).\n",
            "/content/gdrive/MyDrive/dataLab6\n"
          ]
        }
      ]
    },
    {
      "cell_type": "code",
      "source": [
        "# code\n",
        "fashion_train = pd.read_csv('fashion_train.csv')\n",
        "fashion_test = pd.read_csv('fashion_test.csv')\n",
        "\n",
        "# chia dữ liệu\n",
        "X_train = fashion_train.iloc[:, 0:785]\n",
        "y_train = fashion_train.iloc[:,-1]\n",
        "X_test = fashion_test.iloc[:, 0:785]\n",
        "y_test = fashion_test.iloc[:,-1]"
      ],
      "metadata": {
        "id": "sOsg77IBzEyo"
      },
      "execution_count": 40,
      "outputs": []
    },
    {
      "cell_type": "code",
      "source": [
        "clf = MLPClassifier(solver='lbfgs', alpha=1e-5,\n",
        " hidden_layer_sizes=( 10), random_state=1)\n",
        "clf.fit(X_train, y_train)\n",
        "y_pred = clf.predict(X_test)"
      ],
      "metadata": {
        "id": "CbrxQoehbr5f"
      },
      "execution_count": 41,
      "outputs": []
    },
    {
      "cell_type": "code",
      "source": [
        "accuracy = accuracy_score(y_test, y_pred)\n",
        "precision = precision_score(y_test, y_pred, average='macro')\n",
        "recall = recall_score(y_test, y_pred, average='macro')\n",
        "f1= f1_score(y_test, y_pred, average='macro')\n",
        "print('accuracy: ', accuracy)\n",
        "print('precision: ', precision)\n",
        "print('recall: ', recall)\n",
        "print('f1: ', f1)\n"
      ],
      "metadata": {
        "colab": {
          "base_uri": "https://localhost:8080/",
          "height": 0
        },
        "id": "wyWpj1LlcBro",
        "outputId": "2a9f5aed-8458-480e-db93-4516957a8ea0"
      },
      "execution_count": 42,
      "outputs": [
        {
          "output_type": "stream",
          "name": "stdout",
          "text": [
            "accuracy:  0.091\n",
            "precision:  0.0091\n",
            "recall:  0.1\n",
            "f1:  0.016681943171402383\n"
          ]
        },
        {
          "output_type": "stream",
          "name": "stderr",
          "text": [
            "/usr/local/lib/python3.10/dist-packages/sklearn/metrics/_classification.py:1344: UndefinedMetricWarning: Precision is ill-defined and being set to 0.0 in labels with no predicted samples. Use `zero_division` parameter to control this behavior.\n",
            "  _warn_prf(average, modifier, msg_start, len(result))\n"
          ]
        }
      ]
    },
    {
      "cell_type": "markdown",
      "source": [
        "*   2.2. Apply **MultilayerPerceptron** algorithm with the following settings (the first hidden layer has 250 neuron, the second one has 100 neurons)."
      ],
      "metadata": {
        "id": "pnoVB8J4vV36"
      }
    },
    {
      "cell_type": "code",
      "source": [
        "# code\n",
        "clf = MLPClassifier(solver='adam', alpha=0.001,\n",
        " hidden_layer_sizes=(250, 100), random_state=1)\n",
        "clf.fit(X_train, y_train)\n",
        "y_pred = clf.predict(X_test)"
      ],
      "metadata": {
        "id": "-ZTSvsJdvYqI"
      },
      "execution_count": 43,
      "outputs": []
    },
    {
      "cell_type": "code",
      "source": [
        "accuracy = accuracy_score(y_test, y_pred)\n",
        "precision = precision_score(y_test, y_pred, average='macro')\n",
        "recall = recall_score(y_test, y_pred, average='macro')\n",
        "f1= f1_score(y_test, y_pred, average='macro')\n",
        "print('accuracy: ', accuracy)\n",
        "print('precision: ', precision)\n",
        "print('recall: ', recall)\n",
        "print('f1: ', f1)"
      ],
      "metadata": {
        "colab": {
          "base_uri": "https://localhost:8080/",
          "height": 0
        },
        "id": "LaOQVdPrcjk7",
        "outputId": "e0fbff58-1e4d-48df-e5ed-c7d81a974dc8"
      },
      "execution_count": 44,
      "outputs": [
        {
          "output_type": "stream",
          "name": "stdout",
          "text": [
            "accuracy:  0.775\n",
            "precision:  0.7758506967454754\n",
            "recall:  0.7720553991088834\n",
            "f1:  0.7726297204801964\n"
          ]
        }
      ]
    },
    {
      "cell_type": "markdown",
      "source": [
        "*   2.3. Find the best hyperparameters using **GridSearchCV**"
      ],
      "metadata": {
        "id": "uyey-ndXvZlb"
      }
    },
    {
      "cell_type": "code",
      "source": [
        "#code\n",
        "param_grid = {\n",
        "  'hidden_layer_sizes': [(150,100,50), (120,80,40), (100,50,30)],\n",
        "  'max_iter': [50, 100, 150],\n",
        " 'activation': ['tanh', 'relu'],\n",
        " 'solver': ['sgd', 'adam'],\n",
        " 'alpha': [0.0001, 0.05]}\n",
        "\n",
        "clf = MLPClassifier(hidden_layer_sizes=(5, 2, 20),max_iter=30, activation='logistic',\n",
        "                    solver='lbfgs', alpha=1e-5)\n",
        "\n",
        "grid_clf = GridSearchCV(\n",
        "    estimator= clf,\n",
        "    param_grid= param_grid,\n",
        "    scoring='accuracy',\n",
        "    n_jobs=-1,\n",
        "    cv =5,\n",
        "    refit = True,\n",
        "    return_train_score=True\n",
        ")\n",
        "\n",
        "grid_clf.fit(X_train, y_train)\n",
        "\n",
        "best_hyperParameter = grid_clf.best_params_\n",
        "best_hyperParameter_score = grid_clf.best_score_\n",
        "print(\"Best hyperparameters: \" , best_hyperParameter)\n",
        "print(\"Best hyperparameters: \" , best_hyperParameter_score)\n",
        "\n"
      ],
      "metadata": {
        "id": "Qzh_D-rgvbv9",
        "colab": {
          "base_uri": "https://localhost:8080/",
          "height": 0
        },
        "outputId": "bddcdb52-8f90-4cee-b01c-72e5b9e87ed3"
      },
      "execution_count": 49,
      "outputs": [
        {
          "output_type": "stream",
          "name": "stdout",
          "text": [
            "Best hyperparameters:  {'activation': 'relu', 'alpha': 0.05, 'hidden_layer_sizes': (150, 100, 50), 'max_iter': 50, 'solver': 'adam'}\n",
            "Best hyperparameters:  0.7230000000000001\n"
          ]
        },
        {
          "output_type": "stream",
          "name": "stderr",
          "text": [
            "/usr/local/lib/python3.10/dist-packages/sklearn/neural_network/_multilayer_perceptron.py:686: ConvergenceWarning: Stochastic Optimizer: Maximum iterations (50) reached and the optimization hasn't converged yet.\n",
            "  warnings.warn(\n"
          ]
        }
      ]
    },
    {
      "cell_type": "markdown",
      "source": [
        "*   2.4. Compare the **MultilayerPerceptron** using the best hyperparameters in 2.3 and other classification algorithms (i.e., Random forest, kNN, Naïve Bayes)  in termns of accuracy, precision, recall, and F1"
      ],
      "metadata": {
        "id": "ol1U_T_NvcqV"
      }
    },
    {
      "cell_type": "code",
      "source": [
        "#code\n",
        "y_pred = grid_clf.predict(X_test)\n",
        "accuracy_clf = accuracy_score(y_test, y_pred)\n",
        "precision_clf = precision_score(y_test, y_pred, average='macro')\n",
        "recall_clf = recall_score(y_test, y_pred, average='macro')\n",
        "f1_clf= f1_score(y_test, y_pred, average='macro')"
      ],
      "metadata": {
        "id": "5ZE7A0Au1Pg0"
      },
      "execution_count": 50,
      "outputs": []
    },
    {
      "cell_type": "code",
      "source": [
        "rf = RandomForestClassifier(n_estimators=100)\n",
        "rf.fit(X_train, y_train)\n",
        "y_pred = rf.predict(X_test)\n",
        "accuracy_rf = accuracy_score(y_test, y_pred)\n",
        "precision_rf = precision_score(y_test, y_pred, average='macro')\n",
        "recall_rf = recall_score(y_test, y_pred, average='macro')\n",
        "f1_rf= f1_score(y_test, y_pred, average='macro')"
      ],
      "metadata": {
        "id": "dewxaQpCgbzG"
      },
      "execution_count": 51,
      "outputs": []
    },
    {
      "cell_type": "code",
      "source": [
        "kNN = KNeighborsClassifier(n_neighbors=3)\n",
        "kNN.fit(X_train, y_train)\n",
        "y_pred = kNN.predict(X_test)\n",
        "accuracy_kNN = accuracy_score(y_test, y_pred)\n",
        "precision_kNN = precision_score(y_test, y_pred, average='macro')\n",
        "recall_kNN = recall_score(y_test, y_pred, average='macro')\n",
        "f1_kNN= f1_score(y_test, y_pred, average='macro')"
      ],
      "metadata": {
        "id": "g1qVeF5thJ4g"
      },
      "execution_count": 52,
      "outputs": []
    },
    {
      "cell_type": "code",
      "source": [
        "svm_alg = svm.SVC(kernel=\"linear\")\n",
        "svm_alg.fit(X_train, y_train)\n",
        "y_pred = svm_alg.predict(X_test)\n",
        "accuracy_svm_alg = accuracy_score(y_test, y_pred)\n",
        "precision_svm_alg = precision_score(y_test, y_pred, average='macro')\n",
        "recall_svm_alg = recall_score(y_test, y_pred, average='macro')\n",
        "f1_svm_alg= f1_score(y_test, y_pred, average='macro')"
      ],
      "metadata": {
        "id": "jKulzBCuhU0v"
      },
      "execution_count": 53,
      "outputs": []
    },
    {
      "cell_type": "code",
      "source": [
        "table = PrettyTable()\n",
        "table.field_names = ['ALGORITHM', 'ACC','PRE','RECALL', 'F1']\n",
        "table.add_row(['MultilayerPerceptron', accuracy_clf, precision_clf, recall_clf, f1_clf])\n",
        "table.add_row(['kNN', accuracy_kNN, precision_kNN, recall_kNN, f1_kNN])\n",
        "table.add_row(['Random Forest', accuracy_rf, precision_rf, recall_rf, f1_rf])\n",
        "table.add_row(['Linear', accuracy_svm_alg, precision_svm_alg, recall_svm_alg, f1_svm_alg])\n",
        "print(table)"
      ],
      "metadata": {
        "colab": {
          "base_uri": "https://localhost:8080/",
          "height": 0
        },
        "id": "5-eDnf8yhivX",
        "outputId": "d47c3c6d-69c7-4abf-ff6b-09fc3010212d"
      },
      "execution_count": 54,
      "outputs": [
        {
          "output_type": "stream",
          "name": "stdout",
          "text": [
            "+----------------------+-------+--------------------+--------------------+--------------------+\n",
            "|      ALGORITHM       |  ACC  |        PRE         |       RECALL       |         F1         |\n",
            "+----------------------+-------+--------------------+--------------------+--------------------+\n",
            "| MultilayerPerceptron | 0.742 | 0.7371653523046549 | 0.7408078131780701 | 0.7363269692539316 |\n",
            "|         kNN          | 0.752 | 0.7672391581000158 | 0.7526625305694126 | 0.7465018159581855 |\n",
            "|    Random Forest     | 0.885 | 0.880655110325326  | 0.8840053157813641 | 0.8801591613893767 |\n",
            "|        Linear        | 0.809 | 0.8117729613602249 | 0.8080638899207333 | 0.8054464844513045 |\n",
            "+----------------------+-------+--------------------+--------------------+--------------------+\n"
          ]
        }
      ]
    },
    {
      "cell_type": "markdown",
      "source": [
        "#Task 3. With **breast cancer** dataset"
      ],
      "metadata": {
        "id": "SBSLD_k3Pk3X"
      }
    },
    {
      "cell_type": "markdown",
      "source": [
        "*   3.1. Apply **GridSearchCV** to **MultilayperPerceptron** to find the best hyperparameters (the setting of hyperparameters chosen by students)"
      ],
      "metadata": {
        "id": "w1IZborjPzMH"
      }
    },
    {
      "cell_type": "code",
      "source": [
        "#code\n",
        "cancer = datasets.load_breast_cancer()\n",
        "X = cancer.data\n",
        "y = cancer.target\n",
        "\n",
        "X_train, X_test, y_train, y_test = train_test_split(X, y, test_size=0.3, random_state=42)"
      ],
      "metadata": {
        "id": "m-mbZEK0QZTv"
      },
      "execution_count": 55,
      "outputs": []
    },
    {
      "cell_type": "code",
      "source": [
        "#code\n",
        "param_grid = {\n",
        "  'hidden_layer_sizes': [(150,100,50), (120,80,40), (100,50,30)],\n",
        "  'max_iter': [50, 100, 150],\n",
        " 'activation': ['tanh', 'relu'],\n",
        " 'solver': ['sgd', 'adam'],\n",
        " 'alpha': [0.0001, 0.05]}\n",
        "\n",
        "clf = MLPClassifier(hidden_layer_sizes=(10, 15, 20),max_iter=30, activation='logistic',\n",
        "                    solver='lbfgs', alpha=1e-5)\n",
        "\n",
        "grid_clf = GridSearchCV(\n",
        "    estimator= clf,\n",
        "    param_grid= param_grid,\n",
        "    scoring='accuracy',\n",
        "    n_jobs=-1,\n",
        "    cv =5,\n",
        "    refit = True,\n",
        "    return_train_score=True\n",
        ")\n",
        "\n",
        "grid_clf.fit(X_train, y_train)\n",
        "\n",
        "best_hyperParameter = grid_clf.best_params_\n",
        "best_hyperParameter_score = grid_clf.best_score_\n",
        "print(\"Best hyperparameters: \" , best_hyperParameter)\n",
        "print(\"Best hyperparameters: \" , best_hyperParameter_score)\n",
        "\n"
      ],
      "metadata": {
        "colab": {
          "base_uri": "https://localhost:8080/",
          "height": 0
        },
        "id": "W3JLmI4SeORt",
        "outputId": "878dfa17-78d6-40fa-bd10-e94736abaa23"
      },
      "execution_count": 57,
      "outputs": [
        {
          "output_type": "stream",
          "name": "stdout",
          "text": [
            "Best hyperparameters:  {'activation': 'tanh', 'alpha': 0.05, 'hidden_layer_sizes': (150, 100, 50), 'max_iter': 150, 'solver': 'adam'}\n",
            "Best hyperparameters:  0.9221518987341772\n"
          ]
        }
      ]
    },
    {
      "cell_type": "markdown",
      "source": [
        "*   3.2. Compare the **MultilayerPerceptron** using the best hyperparameters in 3.1) and other classification algorithms (i.e., Random forest, kNN, Naïve Bayes)  in termns of accuracy, precision, recall, and F1"
      ],
      "metadata": {
        "id": "H77rqX7sPv9v"
      }
    },
    {
      "cell_type": "code",
      "source": [
        "#code\n",
        "y_pred = grid_clf.predict(X_test)\n",
        "accuracy_clf = accuracy_score(y_test, y_pred)\n",
        "precision_clf = precision_score(y_test, y_pred, average='macro')\n",
        "recall_clf = recall_score(y_test, y_pred, average='macro')\n",
        "f1_clf= f1_score(y_test, y_pred, average='macro')"
      ],
      "metadata": {
        "id": "KpYimFSaerrL"
      },
      "execution_count": 58,
      "outputs": []
    },
    {
      "cell_type": "code",
      "source": [
        "rf = RandomForestClassifier(n_estimators=100)\n",
        "rf.fit(X_train, y_train)\n",
        "y_pred = rf.predict(X_test)\n",
        "accuracy_rf = accuracy_score(y_test, y_pred)\n",
        "precision_rf = precision_score(y_test, y_pred, average='macro')\n",
        "recall_rf = recall_score(y_test, y_pred, average='macro')\n",
        "f1_rf= f1_score(y_test, y_pred, average='macro')"
      ],
      "metadata": {
        "id": "cB6MQaaYep-7"
      },
      "execution_count": 59,
      "outputs": []
    },
    {
      "cell_type": "code",
      "source": [
        "kNN = KNeighborsClassifier(n_neighbors=3)\n",
        "kNN.fit(X_train, y_train)\n",
        "y_pred = kNN.predict(X_test)\n",
        "accuracy_kNN = accuracy_score(y_test, y_pred)\n",
        "precision_kNN = precision_score(y_test, y_pred, average='macro')\n",
        "recall_kNN = recall_score(y_test, y_pred, average='macro')\n",
        "f1_kNN= f1_score(y_test, y_pred, average='macro')"
      ],
      "metadata": {
        "id": "tY2G7ipReoSj"
      },
      "execution_count": 60,
      "outputs": []
    },
    {
      "cell_type": "code",
      "source": [
        "#naive_bayes: GaussianNB\n",
        "gau = GaussianNB()\n",
        "\n",
        "#fit\n",
        "gau.fit(X_train, y_train)\n",
        "\n",
        "# predict\n",
        "y_pred_gau = gau.predict(X_test)\n",
        "\n",
        "accuracy_gau = accuracy_score(y_test, y_pred_gau)\n",
        "precision_gau = precision_score(y_test, y_pred_gau, average='macro')\n",
        "recall_gau = recall_score(y_test, y_pred_gau, average='macro')\n",
        "f1_gau= f1_score(y_test, y_pred_gau, average='macro')"
      ],
      "metadata": {
        "id": "1miQu7P8emer"
      },
      "execution_count": 61,
      "outputs": []
    },
    {
      "cell_type": "code",
      "source": [
        "#code\n",
        "table = PrettyTable()\n",
        "table.field_names = ['ALGORITHM', 'ACC','PRE','RECALL', 'F1']\n",
        "table.add_row(['MultilayerPerceptron', accuracy_clf, precision_clf, recall_clf, f1_clf])\n",
        "table.add_row(['kNN', accuracy_kNN, precision_kNN, recall_kNN, f1_kNN])\n",
        "table.add_row(['Random Forest', accuracy_rf, precision_rf, recall_rf, f1_rf])\n",
        "table.add_row(['GaussianNB', accuracy_gau, precision_gau, recall_gau, f1_gau])\n",
        "print(table)"
      ],
      "metadata": {
        "id": "pBU6vVH_QakV",
        "colab": {
          "base_uri": "https://localhost:8080/",
          "height": 0
        },
        "outputId": "737688b4-5334-469e-f08f-a1dcce33d414"
      },
      "execution_count": 63,
      "outputs": [
        {
          "output_type": "stream",
          "name": "stdout",
          "text": [
            "+----------------------+--------------------+--------------------+--------------------+--------------------+\n",
            "|      ALGORITHM       |        ACC         |        PRE         |       RECALL       |         F1         |\n",
            "+----------------------+--------------------+--------------------+--------------------+--------------------+\n",
            "| MultilayerPerceptron | 0.9181286549707602 | 0.907928388746803  | 0.921957671957672  | 0.9136363636363636 |\n",
            "|         kNN          | 0.9415204678362573 | 0.9399403874813711 | 0.9338624338624338 | 0.936741639538325  |\n",
            "|    Random Forest     | 0.9649122807017544 | 0.965424739195231  | 0.9589947089947091 | 0.962044983722995  |\n",
            "|      GaussianNB      | 0.9415204678362573 | 0.9399403874813711 | 0.9338624338624338 | 0.936741639538325  |\n",
            "+----------------------+--------------------+--------------------+--------------------+--------------------+\n"
          ]
        }
      ]
    },
    {
      "cell_type": "markdown",
      "source": [
        "#Task 4. With **mobile price classification** dataset\n",
        "\n",
        "\n",
        "*   4.1. Build your own Neural Network using **MultilayerPerceptron**  \n",
        "\n"
      ],
      "metadata": {
        "id": "4JdCVnj_89Fl"
      }
    },
    {
      "cell_type": "code",
      "source": [
        "#code\n",
        "mobile = pd.read_csv('mobile.csv')\n",
        "\n",
        "X = mobile.drop(columns='price_range')\n",
        "y = mobile['price_range']\n",
        "X_train, X_test, y_train, y_test = train_test_split(X, y, test_size=0.3, random_state=1)"
      ],
      "metadata": {
        "id": "ePpTY6Lk9X2V"
      },
      "execution_count": 65,
      "outputs": []
    },
    {
      "cell_type": "code",
      "source": [
        "clf = MLPClassifier(hidden_layer_sizes=(30, 25, 40),max_iter=50, activation='tanh',\n",
        "                    solver='adam', alpha=0.01)\n",
        "clf.fit(X_train, y_train)\n",
        "y_pred = clf.predict(X_test)"
      ],
      "metadata": {
        "colab": {
          "base_uri": "https://localhost:8080/",
          "height": 0
        },
        "id": "shtDB1JBfs0y",
        "outputId": "9ca97a6d-b3e5-4390-f534-b61fbece2d79"
      },
      "execution_count": 70,
      "outputs": [
        {
          "output_type": "stream",
          "name": "stderr",
          "text": [
            "/usr/local/lib/python3.10/dist-packages/sklearn/neural_network/_multilayer_perceptron.py:686: ConvergenceWarning: Stochastic Optimizer: Maximum iterations (50) reached and the optimization hasn't converged yet.\n",
            "  warnings.warn(\n"
          ]
        }
      ]
    },
    {
      "cell_type": "code",
      "source": [
        "accuracy = accuracy_score(y_test, y_pred)\n",
        "precision = precision_score(y_test, y_pred, average='macro')\n",
        "recall = recall_score(y_test, y_pred, average='macro')\n",
        "f1= f1_score(y_test, y_pred, average='macro')\n",
        "print('accuracy: ', accuracy)\n",
        "print('precision: ', precision)\n",
        "print('recall: ', recall)\n",
        "print('f1: ', f1)"
      ],
      "metadata": {
        "colab": {
          "base_uri": "https://localhost:8080/",
          "height": 0
        },
        "id": "qR4iu_paf8qb",
        "outputId": "165e15a8-cb63-4c7c-c8cb-5e77c8143e96"
      },
      "execution_count": 71,
      "outputs": [
        {
          "output_type": "stream",
          "name": "stdout",
          "text": [
            "accuracy:  0.53\n",
            "precision:  0.5553305598966639\n",
            "recall:  0.5436332725342793\n",
            "f1:  0.5155985907994052\n"
          ]
        }
      ]
    },
    {
      "cell_type": "markdown",
      "source": [
        "*   4.2. Apply **GridSearchCV** to **MultilayperPerceptron** to find the best hyperparameters (the setting of hyperparameters chosen by students)"
      ],
      "metadata": {
        "id": "yqlFS6ic9ZCV"
      }
    },
    {
      "cell_type": "code",
      "source": [
        "#code\n",
        "param_grid = {\n",
        "  'hidden_layer_sizes': [(150,100,50), (120,80,40), (100,50,30)],\n",
        "  'max_iter': [ 100, 150, 200],\n",
        " 'activation': ['tanh', 'relu','identity'],\n",
        " 'solver': ['sgd', 'adam'],\n",
        " 'alpha': [0.0001, 0.05],\n",
        "  'learning_rate': ['constant', 'invscaling']}\n",
        "\n",
        "clf = MLPClassifier(hidden_layer_sizes=(10, 15, 20),max_iter=30, activation='logistic',\n",
        "                    solver='lbfgs', alpha=1e-5, learning_rate='adaptive')\n",
        "\n",
        "grid_clf = GridSearchCV(\n",
        "    estimator= clf,\n",
        "    param_grid= param_grid,\n",
        "    scoring='accuracy',\n",
        "    n_jobs=-1,\n",
        "    cv =5,\n",
        "    refit = True,\n",
        "    return_train_score=True\n",
        ")\n",
        "\n",
        "grid_clf.fit(X_train, y_train)\n",
        "\n",
        "best_hyperParameter = grid_clf.best_params_\n",
        "best_hyperParameter_score = grid_clf.best_score_\n",
        "print(\"Best hyperparameters: \" , best_hyperParameter)\n",
        "print(\"Best hyperparameters: \" , best_hyperParameter_score)\n",
        "\n"
      ],
      "metadata": {
        "id": "OvW2yGUU9_ik",
        "colab": {
          "base_uri": "https://localhost:8080/",
          "height": 0
        },
        "outputId": "75debbd9-e0f6-4e58-d087-a439138777a0"
      },
      "execution_count": 72,
      "outputs": [
        {
          "output_type": "stream",
          "name": "stderr",
          "text": [
            "/usr/local/lib/python3.10/dist-packages/sklearn/model_selection/_validation.py:378: FitFailedWarning: \n",
            "180 fits failed out of a total of 1080.\n",
            "The score on these train-test partitions for these parameters will be set to nan.\n",
            "If these failures are not expected, you can try to debug them by setting error_score='raise'.\n",
            "\n",
            "Below are more details about the failures:\n",
            "--------------------------------------------------------------------------------\n",
            "180 fits failed with the following error:\n",
            "Traceback (most recent call last):\n",
            "  File \"/usr/local/lib/python3.10/dist-packages/sklearn/model_selection/_validation.py\", line 686, in _fit_and_score\n",
            "    estimator.fit(X_train, y_train, **fit_params)\n",
            "  File \"/usr/local/lib/python3.10/dist-packages/sklearn/neural_network/_multilayer_perceptron.py\", line 749, in fit\n",
            "    return self._fit(X, y, incremental=False)\n",
            "  File \"/usr/local/lib/python3.10/dist-packages/sklearn/neural_network/_multilayer_perceptron.py\", line 491, in _fit\n",
            "    raise ValueError(\n",
            "ValueError: Solver produced non-finite parameter weights. The input data may contain large values and need to be preprocessed.\n",
            "\n",
            "  warnings.warn(some_fits_failed_message, FitFailedWarning)\n",
            "/usr/local/lib/python3.10/dist-packages/sklearn/model_selection/_search.py:952: UserWarning: One or more of the test scores are non-finite: [0.555      0.645      0.55857143 0.61928571 0.565      0.655\n",
            " 0.44928571 0.66285714 0.48357143 0.63142857 0.45142857 0.63\n",
            " 0.55714286 0.63642857 0.54714286 0.615      0.53928571 0.64428571\n",
            " 0.41571429 0.62785714 0.45214286 0.63928571 0.43357143 0.61\n",
            " 0.54642857 0.62285714 0.54571429 0.61857143 0.54       0.62928571\n",
            " 0.38928571 0.60142857 0.39214286 0.64642857 0.38214286 0.61785714\n",
            " 0.56       0.62285714 0.545      0.62785714 0.55214286 0.63571429\n",
            " 0.495      0.62857143 0.47642857 0.66571429 0.46285714 0.63357143\n",
            " 0.56357143 0.64928571 0.55571429 0.65285714 0.55357143 0.62071429\n",
            " 0.42142857 0.64714286 0.42785714 0.64571429 0.47642857 0.66357143\n",
            " 0.54071429 0.62428571 0.53142857 0.62714286 0.55714286 0.635\n",
            " 0.38071429 0.62857143 0.43428571 0.64714286 0.43857143 0.62785714\n",
            " 0.24642857 0.61       0.25214286 0.57142857 0.25285714 0.63428571\n",
            " 0.25142857 0.61642857 0.28857143 0.61428571 0.25428571 0.55714286\n",
            " 0.24714286 0.62785714 0.25357143 0.63928571 0.25214286 0.59714286\n",
            " 0.24428571 0.57428571 0.25       0.61071429 0.25071429 0.58642857\n",
            " 0.25       0.62214286 0.24714286 0.59285714 0.24857143 0.60285714\n",
            " 0.26571429 0.615      0.24714286 0.635      0.25285714 0.61642857\n",
            " 0.25571429 0.61928571 0.25714286 0.575      0.26785714 0.60857143\n",
            " 0.24357143 0.60285714 0.25428571 0.60642857 0.24357143 0.59285714\n",
            " 0.25714286 0.59785714 0.25642857 0.60357143 0.285      0.60857143\n",
            " 0.24928571 0.58       0.25       0.61642857 0.255      0.63357143\n",
            " 0.26785714 0.62714286 0.24714286 0.63142857 0.24928571 0.61285714\n",
            " 0.25642857 0.625      0.25642857 0.58571429 0.25428571 0.60214286\n",
            "        nan 0.54785714        nan 0.54              nan 0.56285714\n",
            "        nan 0.54142857        nan 0.49571429        nan 0.55214286\n",
            "        nan 0.49071429        nan 0.48428571        nan 0.475\n",
            "        nan 0.51              nan 0.54928571        nan 0.54714286\n",
            "        nan 0.52571429        nan 0.52              nan 0.48857143\n",
            "        nan 0.55071429        nan 0.56357143        nan 0.51071429\n",
            "        nan 0.53928571        nan 0.52785714        nan 0.54\n",
            "        nan 0.53428571        nan 0.52357143        nan 0.52642857\n",
            "        nan 0.53071429        nan 0.52928571        nan 0.52857143\n",
            "        nan 0.52928571        nan 0.55142857        nan 0.52928571\n",
            "        nan 0.56428571        nan 0.52357143        nan 0.515\n",
            "        nan 0.53142857        nan 0.54142857        nan 0.52214286]\n",
            "  warnings.warn(\n",
            "/usr/local/lib/python3.10/dist-packages/sklearn/model_selection/_search.py:952: UserWarning: One or more of the train scores are non-finite: [0.56196429 0.72928571 0.58035714 0.74303571 0.58517857 0.7525\n",
            " 0.47946429 0.77107143 0.50839286 0.75982143 0.46785714 0.74535714\n",
            " 0.57071429 0.74285714 0.56482143 0.71464286 0.56571429 0.74303571\n",
            " 0.43339286 0.72017857 0.48232143 0.74535714 0.47964286 0.7325\n",
            " 0.555      0.70642857 0.55625    0.69       0.55732143 0.72017857\n",
            " 0.42910714 0.71142857 0.42875    0.71375    0.42303571 0.70428571\n",
            " 0.57196429 0.72857143 0.5725     0.73875    0.57946429 0.73125\n",
            " 0.49678571 0.73589286 0.50571429 0.74142857 0.49696429 0.73321429\n",
            " 0.56464286 0.74678571 0.57410714 0.75089286 0.56303571 0.73928571\n",
            " 0.44285714 0.72446429 0.44285714 0.72696429 0.48517857 0.76910714\n",
            " 0.56392857 0.70214286 0.54535714 0.72732143 0.56160714 0.71964286\n",
            " 0.39142857 0.71678571 0.45392857 0.74339286 0.45678571 0.71625\n",
            " 0.2475     0.64553571 0.25214286 0.62875    0.25178571 0.68803571\n",
            " 0.24964286 0.68125    0.28178571 0.69571429 0.25517857 0.60642857\n",
            " 0.24732143 0.68107143 0.255      0.70678571 0.25196429 0.65678571\n",
            " 0.24589286 0.62928571 0.25142857 0.6675     0.25071429 0.65214286\n",
            " 0.25017857 0.68125    0.24821429 0.66553571 0.24946429 0.65910714\n",
            " 0.26732143 0.68571429 0.24767857 0.68375    0.25285714 0.66678571\n",
            " 0.255      0.70178571 0.25678571 0.62017857 0.27142857 0.65857143\n",
            " 0.24553571 0.65339286 0.255      0.67892857 0.24053571 0.65357143\n",
            " 0.25660714 0.64785714 0.25678571 0.65303571 0.28892857 0.67392857\n",
            " 0.25035714 0.64678571 0.25035714 0.66910714 0.2575     0.66160714\n",
            " 0.27196429 0.68982143 0.24732143 0.71607143 0.25017857 0.67803571\n",
            " 0.26142857 0.69910714 0.25535714 0.64089286 0.25410714 0.68964286\n",
            "        nan 0.55982143        nan 0.54              nan 0.55875\n",
            "        nan 0.53535714        nan 0.50053571        nan 0.54678571\n",
            "        nan 0.49803571        nan 0.49339286        nan 0.47375\n",
            "        nan 0.50714286        nan 0.55910714        nan 0.55553571\n",
            "        nan 0.53535714        nan 0.51410714        nan 0.48285714\n",
            "        nan 0.53160714        nan 0.56339286        nan 0.50589286\n",
            "        nan 0.53357143        nan 0.55142857        nan 0.55767857\n",
            "        nan 0.54678571        nan 0.5175            nan 0.53607143\n",
            "        nan 0.55071429        nan 0.53535714        nan 0.53053571\n",
            "        nan 0.53339286        nan 0.54589286        nan 0.55160714\n",
            "        nan 0.56107143        nan 0.53982143        nan 0.52410714\n",
            "        nan 0.52232143        nan 0.55892857        nan 0.51875   ]\n",
            "  warnings.warn(\n"
          ]
        },
        {
          "output_type": "stream",
          "name": "stdout",
          "text": [
            "Best hyperparameters:  {'activation': 'tanh', 'alpha': 0.05, 'hidden_layer_sizes': (150, 100, 50), 'learning_rate': 'invscaling', 'max_iter': 150, 'solver': 'adam'}\n",
            "Best hyperparameters:  0.6657142857142857\n"
          ]
        }
      ]
    },
    {
      "cell_type": "markdown",
      "source": [
        "#Finally,\n",
        "Save a copy in your Github. Remember renaming the notebook."
      ],
      "metadata": {
        "id": "Ok7RGkea_b7n"
      }
    }
  ]
}