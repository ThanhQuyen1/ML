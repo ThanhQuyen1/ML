{
  "nbformat": 4,
  "nbformat_minor": 0,
  "metadata": {
    "colab": {
      "provenance": [],
      "include_colab_link": true
    },
    "kernelspec": {
      "name": "python3",
      "display_name": "Python 3"
    },
    "language_info": {
      "name": "python"
    }
  },
  "cells": [
    {
      "cell_type": "markdown",
      "metadata": {
        "id": "view-in-github",
        "colab_type": "text"
      },
      "source": [
        "<a href=\"https://colab.research.google.com/github/ThanhQuyen1/ML/blob/main/Lab_6_21130508_NguyenThanhQuyen.ipynb\" target=\"_parent\"><img src=\"https://colab.research.google.com/assets/colab-badge.svg\" alt=\"Open In Colab\"/></a>"
      ]
    },
    {
      "cell_type": "markdown",
      "source": [
        "# This lab is to deal with classification task using **Random Forests** and **Naïve Bayes** algorithms with/without **Feature Selection**.\n",
        "\n",
        "*   **Deadline: 23:59, 15/04/2024**\n",
        "\n"
      ],
      "metadata": {
        "id": "LMzehe0sy5wr"
      }
    },
    {
      "cell_type": "markdown",
      "source": [
        "# Import libraries"
      ],
      "metadata": {
        "id": "H4nJmxp9zGX4"
      }
    },
    {
      "cell_type": "code",
      "execution_count": null,
      "metadata": {
        "id": "DoVWQ8AEyc-C"
      },
      "outputs": [],
      "source": [
        "# code\n",
        "import numpy as np\n",
        "import pandas as pd\n",
        "import matplotlib.pyplot as plt\n",
        "import seaborn as sns\n",
        "from sklearn import preprocessing\n",
        "from sklearn import datasets\n",
        "from sklearn.decomposition import PCA\n",
        "from sklearn.preprocessing import StandardScaler\n",
        "from sklearn.model_selection import train_test_split\n",
        "from sklearn.linear_model import LogisticRegression\n",
        "from sklearn.tree import DecisionTreeClassifier\n",
        "from sklearn.neighbors import KNeighborsClassifier\n",
        "from sklearn.ensemble import RandomForestClassifier\n",
        "from sklearn import metrics\n",
        "from sklearn.metrics import accuracy_score\n",
        "from sklearn.metrics import precision_score\n",
        "from sklearn.metrics import recall_score\n",
        "from sklearn.metrics import f1_score\n",
        "from sklearn.naive_bayes import GaussianNB\n",
        "from sklearn import svm\n",
        "from sklearn.preprocessing import OneHotEncoder\n",
        "from sklearn.preprocessing import LabelEncoder\n",
        "from sklearn.compose import ColumnTransformer\n"
      ]
    },
    {
      "cell_type": "markdown",
      "source": [
        "#Task 1.\n",
        "Task 1. Compare the performance of selected classification algorithms including **Random forest**, **NaiveBayes**, and **SVM** with **FASHION** dataset based on **accuracy, precision, recall, f1** measures according to **without using selection feature** and **using selection feature**.\n",
        "\n"
      ],
      "metadata": {
        "id": "kNv07ARGzOUm"
      }
    },
    {
      "cell_type": "code",
      "source": [
        "# code\n",
        "from google.colab import drive\n",
        "drive.mount('/content/gdrive')\n",
        "%cd '/content/gdrive/MyDrive/dataLab6'"
      ],
      "metadata": {
        "id": "sOsg77IBzEyo",
        "colab": {
          "base_uri": "https://localhost:8080/"
        },
        "outputId": "6a649cdd-9c3e-40da-9031-74ef988f47b6"
      },
      "execution_count": null,
      "outputs": [
        {
          "output_type": "stream",
          "name": "stdout",
          "text": [
            "Mounted at /content/gdrive\n",
            "/content/gdrive/MyDrive/dataLab6\n"
          ]
        }
      ]
    },
    {
      "cell_type": "code",
      "source": [
        "fashion_train = pd.read_csv('fashion_train.csv')\n",
        "fashion_test = pd.read_csv('fashion_test.csv')\n",
        "\n",
        "# chia dữ liệu\n",
        "X_train = fashion_train.iloc[:, 0:785]\n",
        "y_train = fashion_train.iloc[:,-1]\n",
        "X_test = fashion_test.iloc[:, 0:785]\n",
        "y_test = fashion_test.iloc[:,-1]\n"
      ],
      "metadata": {
        "id": "fBYgW_TkPfk_"
      },
      "execution_count": null,
      "outputs": []
    },
    {
      "cell_type": "code",
      "source": [
        "# random forest\n",
        "clf = RandomForestClassifier(n_estimators=100)\n",
        "\n",
        "# fit\n",
        "clf.fit(X_train, y_train)\n",
        "\n",
        "# predict\n",
        "y_pred_clf = clf.predict(X_test)\n",
        "\n",
        "accuracy_clf = accuracy_score(y_test, y_pred_clf)\n",
        "precision_clf = precision_score(y_test, y_pred_clf, average='macro')\n",
        "recall_clf = recall_score(y_test, y_pred_clf, average='macro')\n",
        "f1_clf= f1_score(y_test, y_pred_clf, average='macro')\n"
      ],
      "metadata": {
        "id": "J3tG-nQVQlpF"
      },
      "execution_count": null,
      "outputs": []
    },
    {
      "cell_type": "code",
      "source": [
        "#naive_bayes: GaussianNB\n",
        "gau = GaussianNB()\n",
        "\n",
        "#fit\n",
        "gau.fit(X_train, y_train)\n",
        "\n",
        "# predict\n",
        "y_pred_gau = gau.predict(X_test)\n",
        "\n",
        "accuracy_gau = accuracy_score(y_test, y_pred_gau)\n",
        "precision_gau = precision_score(y_test, y_pred_gau, average='macro')\n",
        "recall_gau = recall_score(y_test, y_pred_gau, average='macro')\n",
        "f1_gau= f1_score(y_test, y_pred_gau, average='macro')"
      ],
      "metadata": {
        "id": "FkF0WA0RSvTY"
      },
      "execution_count": null,
      "outputs": []
    },
    {
      "cell_type": "code",
      "source": [
        "#linear\n",
        "svm_classifier = svm.SVC(kernel=\"linear\")\n",
        "\n",
        "# xây dựng model\n",
        "svm_classifier.fit(X_train, y_train)\n",
        "\n",
        "#test model\n",
        "y_pred_svm = svm_classifier.predict(X_test)\n",
        "\n",
        "accuracy_svm = accuracy_score(y_test, y_pred_svm)\n",
        "precision_svm = precision_score(y_test, y_pred_svm, average='macro')\n",
        "recall_svm = recall_score(y_test, y_pred_svm, average='macro')\n",
        "f1_svm= f1_score(y_test, y_pred_svm, average='macro')\n",
        "\n",
        "# poly\n",
        "svm_classifier_poly = svm.SVC(kernel=\"poly\")\n",
        "\n",
        "# xây dựng model\n",
        "svm_classifier_poly.fit(X_train, y_train)\n",
        "\n",
        "#test model\n",
        "y_pred_svm_poly = svm_classifier_poly.predict(X_test)\n",
        "\n",
        "accuracy_svm_poly = accuracy_score(y_test, y_pred_svm_poly)\n",
        "precision_svm_poly = precision_score(y_test, y_pred_svm_poly, average='macro')\n",
        "recall_svm_poly = recall_score(y_test, y_pred_svm_poly, average='macro')\n",
        "f1_svm_poly= f1_score(y_test, y_pred_svm_poly, average='macro')\n",
        "\n",
        "# sigmoid\n",
        "svm_classifier_sigmoid = svm.SVC(kernel=\"sigmoid\")\n",
        "\n",
        "# xây dựng model\n",
        "svm_classifier_sigmoid.fit(X_train, y_train)\n",
        "\n",
        "#test model\n",
        "y_pred_svm_sigmoid = svm_classifier_sigmoid.predict(X_test)\n",
        "\n",
        "accuracy_svm_sigmoid = accuracy_score(y_test, y_pred_svm_sigmoid)\n",
        "precision_svm_sigmoid = precision_score(y_test, y_pred_svm_sigmoid, average='macro')\n",
        "recall_svm_sigmoid = recall_score(y_test, y_pred_svm_sigmoid, average='macro')\n",
        "f1_svm_sigmoid= f1_score(y_test, y_pred_svm_sigmoid, average='macro')\n",
        "\n",
        "#Radial Basis Function\n",
        "svm_classifier_rbf = svm.SVC(kernel=\"rbf\")\n",
        "\n",
        "# xây dựng model\n",
        "svm_classifier_rbf.fit(X_train, y_train)\n",
        "\n",
        "#test model\n",
        "y_pred_svm_rbf = svm_classifier_rbf.predict(X_test)\n",
        "\n",
        "accuracy_svm_rbf = accuracy_score(y_test, y_pred_svm_rbf)\n",
        "precision_svm_rbf = precision_score(y_test, y_pred_svm_rbf, average='macro')\n",
        "recall_svm_rbf = recall_score(y_test, y_pred_svm_rbf, average='macro')\n",
        "f1_svm_rbf= f1_score(y_test, y_pred_svm_rbf, average='macro')\n"
      ],
      "metadata": {
        "id": "i5CC6RzlUwai"
      },
      "execution_count": null,
      "outputs": []
    },
    {
      "cell_type": "code",
      "source": [
        "from prettytable import PrettyTable\n",
        "table = PrettyTable()\n",
        "table.field_names = ['ALGORITHM', 'ACC','PRE','RECALL', 'F1']\n",
        "table.add_row(['Random Forest', accuracy_clf, precision_clf, recall_clf, f1_clf])\n",
        "table.add_row(['Naive_bayes:GaussianNB', accuracy_gau, precision_gau, recall_gau, f1_gau])\n",
        "table.add_row(['Linear', accuracy_svm, precision_svm, recall_svm, f1_svm])\n",
        "table.add_row(['Poly',  accuracy_svm_poly, precision_svm_poly, recall_svm_poly, f1_svm_poly])\n",
        "table.add_row(['Sigmoid', accuracy_svm_sigmoid, precision_svm_sigmoid, recall_svm_sigmoid, f1_svm_sigmoid])\n",
        "table.add_row(['Radial Basis Function',  accuracy_svm_rbf, precision_svm_rbf, recall_svm_rbf, f1_svm_rbf])\n",
        "\n",
        "print(table)"
      ],
      "metadata": {
        "colab": {
          "base_uri": "https://localhost:8080/"
        },
        "id": "E7_PPRLVVKoB",
        "outputId": "39117d6f-5bab-45be-89f7-edd9105a3040"
      },
      "execution_count": null,
      "outputs": [
        {
          "output_type": "stream",
          "name": "stdout",
          "text": [
            "+------------------------+-------+---------------------+--------------------+---------------------+\n",
            "|       ALGORITHM        |  ACC  |         PRE         |       RECALL       |          F1         |\n",
            "+------------------------+-------+---------------------+--------------------+---------------------+\n",
            "|     Random Forest      | 0.853 |  0.8492752221124897 | 0.8510078098929741 |  0.8475126208266669 |\n",
            "| Naive_bayes:GaussianNB | 0.973 |  0.9746782733005261 | 0.9731339573406892 |  0.9733820799773196 |\n",
            "|         Linear         | 0.809 |  0.8117729613602249 | 0.8080638899207333 |  0.8054464844513045 |\n",
            "|          Poly          | 0.747 |  0.7622399866233962 | 0.7442901360474709 |  0.7457242413882829 |\n",
            "|        Sigmoid         | 0.394 | 0.45450333010241967 | 0.3964375751137075 | 0.38924760420347737 |\n",
            "| Radial Basis Function  | 0.812 |  0.8070229601657756 | 0.8098864991670668 |  0.8068213516036611 |\n",
            "+------------------------+-------+---------------------+--------------------+---------------------+\n"
          ]
        }
      ]
    },
    {
      "cell_type": "code",
      "source": [
        "# using selection feature\n",
        "# feature extraction\n",
        "pca = PCA()\n",
        "fit = pca.fit(X_train)\n",
        "\n",
        "pca=PCA(n_components=400)#giữ lại 400 thành phần chính\n",
        "X_train_new=pca.fit_transform(X_train)\n",
        "pca=PCA(n_components=400)#giữ lại 400 thành phần chính\n",
        "X_test_new=pca.fit_transform(X_test)\n",
        "\n",
        "\n"
      ],
      "metadata": {
        "id": "SSsQRELFZ61B"
      },
      "execution_count": null,
      "outputs": []
    },
    {
      "cell_type": "code",
      "source": [
        "# random forest\n",
        "clf = RandomForestClassifier(n_estimators=100)\n",
        "\n",
        "# fit\n",
        "clf.fit(X_train_new, y_train)\n",
        "\n",
        "# predict\n",
        "y_pred_clf = clf.predict(X_test_new)\n",
        "\n",
        "accuracy_clf = accuracy_score(y_test, y_pred_clf)\n",
        "precision_clf = precision_score(y_test, y_pred_clf, average='macro')\n",
        "recall_clf = recall_score(y_test, y_pred_clf, average='macro')\n",
        "f1_clf= f1_score(y_test, y_pred_clf, average='macro')\n"
      ],
      "metadata": {
        "id": "B-DMRhR1cBQp"
      },
      "execution_count": null,
      "outputs": []
    },
    {
      "cell_type": "code",
      "source": [
        "#naive_bayes: GaussianNB\n",
        "gau = GaussianNB()\n",
        "\n",
        "#fit\n",
        "gau.fit(X_train_new, y_train)\n",
        "\n",
        "# predict\n",
        "y_pred_gau = gau.predict(X_test_new)\n",
        "\n",
        "accuracy_gau = accuracy_score(y_test, y_pred_gau)\n",
        "precision_gau = precision_score(y_test, y_pred_gau, average='macro')\n",
        "recall_gau = recall_score(y_test, y_pred_gau, average='macro')\n",
        "f1_gau= f1_score(y_test, y_pred_gau, average='macro')"
      ],
      "metadata": {
        "id": "ZX-YBejmcLae"
      },
      "execution_count": null,
      "outputs": []
    },
    {
      "cell_type": "code",
      "source": [
        "#linear\n",
        "svm_classifier = svm.SVC(kernel=\"linear\")\n",
        "\n",
        "# xây dựng model\n",
        "svm_classifier.fit(X_train_new, y_train)\n",
        "\n",
        "#test model\n",
        "y_pred_svm = svm_classifier.predict(X_test_new)\n",
        "\n",
        "accuracy_svm = accuracy_score(y_test, y_pred_svm)\n",
        "precision_svm = precision_score(y_test, y_pred_svm, average='macro')\n",
        "recall_svm = recall_score(y_test, y_pred_svm, average='macro')\n",
        "f1_svm= f1_score(y_test, y_pred_svm, average='macro')\n",
        "\n",
        "# poly\n",
        "svm_classifier_poly = svm.SVC(kernel=\"poly\")\n",
        "\n",
        "# xây dựng model\n",
        "svm_classifier_poly.fit(X_train_new, y_train)\n",
        "\n",
        "#test model\n",
        "y_pred_svm_poly = svm_classifier_poly.predict(X_test_new)\n",
        "\n",
        "accuracy_svm_poly = accuracy_score(y_test, y_pred_svm_poly)\n",
        "precision_svm_poly = precision_score(y_test, y_pred_svm_poly, average='macro')\n",
        "recall_svm_poly = recall_score(y_test, y_pred_svm_poly, average='macro')\n",
        "f1_svm_poly= f1_score(y_test, y_pred_svm_poly, average='macro')\n",
        "\n",
        "# sigmoid\n",
        "svm_classifier_sigmoid = svm.SVC(kernel=\"sigmoid\")\n",
        "\n",
        "# xây dựng model\n",
        "svm_classifier_sigmoid.fit(X_train_new, y_train)\n",
        "\n",
        "#test model\n",
        "y_pred_svm_sigmoid = svm_classifier_sigmoid.predict(X_test_new)\n",
        "\n",
        "accuracy_svm_sigmoid = accuracy_score(y_test, y_pred_svm_sigmoid)\n",
        "precision_svm_sigmoid = precision_score(y_test, y_pred_svm_sigmoid, average='macro')\n",
        "recall_svm_sigmoid = recall_score(y_test, y_pred_svm_sigmoid, average='macro')\n",
        "f1_svm_sigmoid= f1_score(y_test, y_pred_svm_sigmoid, average='macro')\n",
        "\n",
        "#Radial Basis Function\n",
        "svm_classifier_rbf = svm.SVC(kernel=\"rbf\")\n",
        "\n",
        "# xây dựng model\n",
        "svm_classifier_rbf.fit(X_train_new, y_train)\n",
        "\n",
        "#test model\n",
        "y_pred_svm_rbf = svm_classifier_rbf.predict(X_test_new)\n",
        "\n",
        "accuracy_svm_rbf = accuracy_score(y_test, y_pred_svm_rbf)\n",
        "precision_svm_rbf = precision_score(y_test, y_pred_svm_rbf, average='macro')\n",
        "recall_svm_rbf = recall_score(y_test, y_pred_svm_rbf, average='macro')\n",
        "f1_svm_rbf= f1_score(y_test, y_pred_svm_rbf, average='macro')\n"
      ],
      "metadata": {
        "id": "p7KajoPxcRLl"
      },
      "execution_count": null,
      "outputs": []
    },
    {
      "cell_type": "code",
      "source": [
        "from prettytable import PrettyTable\n",
        "table = PrettyTable()\n",
        "table.field_names = ['ALGORITHM', 'ACC','PRE','RECALL', 'F1']\n",
        "table.add_row(['Random Forest', accuracy_clf, precision_clf, recall_clf, f1_clf])\n",
        "table.add_row(['Naive_bayes:GaussianNB', accuracy_gau, precision_gau, recall_gau, f1_gau])\n",
        "table.add_row(['Linear', accuracy_svm, precision_svm, recall_svm, f1_svm])\n",
        "table.add_row(['Poly',  accuracy_svm_poly, precision_svm_poly, recall_svm_poly, f1_svm_poly])\n",
        "table.add_row(['Sigmoid', accuracy_svm_sigmoid, precision_svm_sigmoid, recall_svm_sigmoid, f1_svm_sigmoid])\n",
        "table.add_row(['Radial Basis Function',  accuracy_svm_rbf, precision_svm_rbf, recall_svm_rbf, f1_svm_rbf])\n",
        "\n",
        "print(table)"
      ],
      "metadata": {
        "colab": {
          "base_uri": "https://localhost:8080/"
        },
        "id": "s3AoxhwIcYgw",
        "outputId": "4d51816a-2639-4542-c31e-f1298c1e9fc8"
      },
      "execution_count": null,
      "outputs": [
        {
          "output_type": "stream",
          "name": "stdout",
          "text": [
            "+------------------------+-------+--------------------+---------------------+--------------------+\n",
            "|       ALGORITHM        |  ACC  |        PRE         |        RECALL       |         F1         |\n",
            "+------------------------+-------+--------------------+---------------------+--------------------+\n",
            "|     Random Forest      | 0.535 | 0.5557704084978201 |  0.5359888003338258 | 0.5267661739169344 |\n",
            "| Naive_bayes:GaussianNB | 0.452 | 0.5250615751645146 |  0.4471621143512614 | 0.4410751168974256 |\n",
            "|         Linear         | 0.476 | 0.4954157356442538 | 0.47759145477606124 | 0.479798112972223  |\n",
            "|          Poly          | 0.438 | 0.567622844558416  |  0.4365798013385619 | 0.4643653849766082 |\n",
            "|        Sigmoid         | 0.522 | 0.5244226532378462 |  0.523567405558087  | 0.5092993915634576 |\n",
            "| Radial Basis Function  | 0.557 | 0.5752751014914399 |  0.5538264628452951 | 0.5563073441347341 |\n",
            "+------------------------+-------+--------------------+---------------------+--------------------+\n"
          ]
        }
      ]
    },
    {
      "cell_type": "markdown",
      "source": [
        "#Task 2.\n",
        "For given bank dataset (**bank.csv**) having the following attributes :\n",
        "1.\t**age** (numeric)\n",
        "2.\t**job** : type of job (categorical: 'admin.','blue-collar','entrepreneur','housemaid','management','retired','self-employed','services','student','technician','unemployed','unknown')\n",
        "3.\t**marital** : marital status (categorical: 'divorced','married','single','unknown'; note: 'divorced' means divorced or widowed)\n",
        "4.\t**education** (categorical: 'basic.4y','basic.6y','basic.9y','high.school','illiterate','professional.course','university.degree','unknown')\n",
        "5.\t**default**: has credit in default? (categorical: 'no','yes','unknown')\n",
        "6.\t**housing**: has housing loan? (categorical: 'no','yes','unknown')\n",
        "7.\t**loan**: has personal loan? (categorical: 'no','yes','unknown')\n",
        "8.\t**contact**: contact communication type (categorical: 'cellular','telephone')\n",
        "9.\t**month**: last contact month of year (categorical: 'jan', 'feb', 'mar', ..., 'nov', 'dec')\n",
        "10.\t**day_of_week**: last contact day of the week (categorical: 'mon','tue','wed','thu','fri')\n",
        "11.\t**duration**: last contact duration, in seconds (numeric). Important note: this attribute highly affects the output target (e.g., if duration=0 then y='no'). Yet, the duration is not known before a call is performed. Also, after the end of the call y is obviously known. Thus, this input should only be included for benchmark purposes and should be discarded if the intention is to have a realistic predictive model.\n",
        "12.\t**campaign**: number of contacts performed during this campaign and for this client (numeric, includes last contact)\n",
        "13.\t**pdays**: number of days that passed by after the client was last contacted from a previous campaign (numeric; 999 means client was not previously contacted)\n",
        "14.\t**previous**: number of contacts performed before this campaign and for this client (numeric)\n",
        "15.\t**poutcome**: outcome of the previous marketing campaign (categorical: 'failure','nonexistent','success')\n",
        "Output variable (desired target):\n",
        "16.\t**y**. has the client subscribed a term deposit? (binary: 'yes','no')\n",
        "\n"
      ],
      "metadata": {
        "id": "b52OPWPD2afi"
      }
    },
    {
      "cell_type": "markdown",
      "source": [
        "#2.1. Apply StandardScaler() function to columns that contains numerical data ('age', 'balance', 'day', 'campaign', 'pdays', 'previous')"
      ],
      "metadata": {
        "id": "q89LEvT7dqaZ"
      }
    },
    {
      "cell_type": "code",
      "source": [
        "#code\n",
        "bank = pd.read_csv('bank.csv')"
      ],
      "metadata": {
        "id": "8vx3mfIidu4P"
      },
      "execution_count": null,
      "outputs": []
    },
    {
      "cell_type": "code",
      "source": [
        "# chuẩn hóa dữ liệu dạng numerical\n",
        "scaler = StandardScaler()\n",
        "numerical_columns = ['age', 'balance', 'day', 'campaign', 'pdays', 'previous']\n",
        "bank[numerical_columns] = scaler.fit_transform(bank[numerical_columns])"
      ],
      "metadata": {
        "id": "Vq_Ar8PlAkSM"
      },
      "execution_count": null,
      "outputs": []
    },
    {
      "cell_type": "markdown",
      "source": [
        "#2.2. Apply Encode Categorical Value (OneHotEncoder) to transfrom categorical data to numerical data ('job', 'marital', 'education', 'default', 'housing', 'loan', 'contact', 'month', 'poutcome')"
      ],
      "metadata": {
        "id": "r7acR0TxdvY8"
      }
    },
    {
      "cell_type": "code",
      "source": [
        "#code\n",
        "#lấy dữ liệu\n",
        "categorical_columns = ['job', 'marital', 'education', 'default', 'housing', 'loan', 'contact', 'month', 'poutcome']\n",
        "\n",
        "# tạo Encoder\n",
        "encoder = OneHotEncoder(sparse=False, handle_unknown='ignore')\n",
        "\n",
        "# Fit and transform\n",
        "encoded_data = encoder.fit_transform(bank[categorical_columns])\n",
        "\n",
        "# chuyển data từ encoder thanh dataFrame\n",
        "encoded_bank = pd.DataFrame(encoded_data, columns=encoder.get_feature_names_out(categorical_columns))\n",
        "\n",
        "# nối dataFrame lại\n",
        "bank_encoded = pd.concat([bank, encoded_bank], axis=1)\n",
        "\n",
        "# xóa các cột cũ trong dataFrame\n",
        "bank_encoded.drop(categorical_columns, axis=1, inplace=True)"
      ],
      "metadata": {
        "id": "egtgBmAtd0um"
      },
      "execution_count": null,
      "outputs": []
    },
    {
      "cell_type": "code",
      "source": [
        "bank_encoded"
      ],
      "metadata": {
        "id": "u40fOMeZZLyi"
      },
      "execution_count": null,
      "outputs": []
    },
    {
      "cell_type": "markdown",
      "source": [],
      "metadata": {
        "id": "7sNKo1uzKZaR"
      }
    },
    {
      "cell_type": "markdown",
      "source": [
        "#2.3. Apply **Decision tree, Logistic Regression, Random forest, kNN, NaïveBayes, SVM** algorithms to the preproceed dataset in the previous steps. Then compare the obtained results using **accuracy, precision, recall, f1** measures."
      ],
      "metadata": {
        "id": "K2Si6d69d1nh"
      }
    },
    {
      "cell_type": "code",
      "source": [
        "#code\n",
        "X = bank_encoded.drop(columns='deposit')\n",
        "y = bank_encoded['deposit']\n",
        "\n",
        "X_train, X_test, y_train, y_test = train_test_split(X, y, test_size=0.3, random_state=42)"
      ],
      "metadata": {
        "id": "Ouil-cf_d8jW"
      },
      "execution_count": null,
      "outputs": []
    },
    {
      "cell_type": "code",
      "source": [
        "# Logistic Regression\n",
        "from sklearn.linear_model import LogisticRegression\n",
        "Logistic = LogisticRegression()\n",
        "Logistic.fit(X_train, y_train)\n",
        "y_pred_Logistic = Logistic.predict(X_test)\n",
        "accuracy_Logistic = accuracy_score(y_test, y_pred_Logistic)\n",
        "precision_Logistic = precision_score(y_test, y_pred_Logistic, average='macro')\n",
        "recall_Logistic = recall_score(y_test, y_pred_Logistic, average='macro')\n",
        "f1_Logistic = f1_score(y_test, y_pred_Logistic, average='macro')\n",
        "\n",
        "# Decision Tree\n",
        "from sklearn.tree import DecisionTreeClassifier\n",
        "decisionTree = DecisionTreeClassifier()\n",
        "decisionTree.fit(X_train, y_train)\n",
        "y_pred_decisionTree = decisionTree.predict(X_test)\n",
        "accuracy_decisionTree = accuracy_score(y_test, y_pred_decisionTree)\n",
        "precision_decisionTree = precision_score(y_test, y_pred_decisionTree, average='macro')\n",
        "recall_decisionTree = recall_score(y_test, y_pred_decisionTree, average='macro')\n",
        "f1_decisionTree = f1_score(y_test, y_pred_decisionTree, average='macro')\n",
        "\n",
        "# kNN = 3\n",
        "from sklearn.neighbors import KNeighborsClassifier\n",
        "knn = KNeighborsClassifier(n_neighbors=3)\n",
        "knn.fit(X_train, y_train)\n",
        "y_pred_knn = knn.predict(X_test)\n",
        "accuracy_knn = accuracy_score(y_test, y_pred_knn)\n",
        "precision_knn = precision_score(y_test, y_pred_knn, average='macro')\n",
        "recall_knn = recall_score(y_test, y_pred_knn, average='macro')\n",
        "f1_knn = f1_score(y_test, y_pred_knn, average='macro')\n",
        "\n"
      ],
      "metadata": {
        "id": "Xji-kirpMktf"
      },
      "execution_count": null,
      "outputs": []
    },
    {
      "cell_type": "code",
      "source": [
        "# random forest\n",
        "clf = RandomForestClassifier(n_estimators=100)\n",
        "\n",
        "# fit\n",
        "clf.fit(X_train, y_train)\n",
        "\n",
        "# predict\n",
        "y_pred_clf = clf.predict(X_test)\n",
        "\n",
        "accuracy_clf = accuracy_score(y_test, y_pred_clf)\n",
        "precision_clf = precision_score(y_test, y_pred_clf, average='macro')\n",
        "recall_clf = recall_score(y_test, y_pred_clf, average='macro')\n",
        "f1_clf= f1_score(y_test, y_pred_clf, average='macro')\n"
      ],
      "metadata": {
        "id": "aFPVVyy2MGNO"
      },
      "execution_count": null,
      "outputs": []
    },
    {
      "cell_type": "code",
      "source": [
        "#naive_bayes: GaussianNB\n",
        "gau = GaussianNB()\n",
        "\n",
        "#fit\n",
        "gau.fit(X_train, y_train)\n",
        "\n",
        "# predict\n",
        "y_pred_gau = gau.predict(X_test)\n",
        "\n",
        "accuracy_gau = accuracy_score(y_test, y_pred_gau)\n",
        "precision_gau = precision_score(y_test, y_pred_gau, average='macro')\n",
        "recall_gau = recall_score(y_test, y_pred_gau, average='macro')\n",
        "f1_gau= f1_score(y_test, y_pred_gau, average='macro')"
      ],
      "metadata": {
        "id": "66A6nXRBNYRB"
      },
      "execution_count": null,
      "outputs": []
    },
    {
      "cell_type": "code",
      "source": [
        "#linear\n",
        "svm_classifier = svm.SVC(kernel=\"linear\")\n",
        "\n",
        "# xây dựng model\n",
        "svm_classifier.fit(X_train, y_train)\n",
        "\n",
        "#test model\n",
        "y_pred_svm = svm_classifier.predict(X_test)\n",
        "\n",
        "accuracy_svm = accuracy_score(y_test, y_pred_svm)\n",
        "precision_svm = precision_score(y_test, y_pred_svm, average='macro')\n",
        "recall_svm = recall_score(y_test, y_pred_svm, average='macro')\n",
        "f1_svm= f1_score(y_test, y_pred_svm, average='macro')\n",
        "\n",
        "# poly\n",
        "svm_classifier_poly = svm.SVC(kernel=\"poly\")\n",
        "\n",
        "# xây dựng model\n",
        "svm_classifier_poly.fit(X_train, y_train)\n",
        "\n",
        "#test model\n",
        "y_pred_svm_poly = svm_classifier_poly.predict(X_test)\n",
        "\n",
        "accuracy_svm_poly = accuracy_score(y_test, y_pred_svm_poly)\n",
        "precision_svm_poly = precision_score(y_test, y_pred_svm_poly, average='macro')\n",
        "recall_svm_poly = recall_score(y_test, y_pred_svm_poly, average='macro')\n",
        "f1_svm_poly= f1_score(y_test, y_pred_svm_poly, average='macro')\n",
        "\n",
        "# sigmoid\n",
        "svm_classifier_sigmoid = svm.SVC(kernel=\"sigmoid\")\n",
        "\n",
        "# xây dựng model\n",
        "svm_classifier_sigmoid.fit(X_train, y_train)\n",
        "\n",
        "#test model\n",
        "y_pred_svm_sigmoid = svm_classifier_sigmoid.predict(X_test)\n",
        "\n",
        "accuracy_svm_sigmoid = accuracy_score(y_test, y_pred_svm_sigmoid)\n",
        "precision_svm_sigmoid = precision_score(y_test, y_pred_svm_sigmoid, average='macro')\n",
        "recall_svm_sigmoid = recall_score(y_test, y_pred_svm_sigmoid, average='macro')\n",
        "f1_svm_sigmoid= f1_score(y_test, y_pred_svm_sigmoid, average='macro')\n",
        "\n",
        "#Radial Basis Function\n",
        "svm_classifier_rbf = svm.SVC(kernel=\"rbf\")\n",
        "\n",
        "# xây dựng model\n",
        "svm_classifier_rbf.fit(X_train, y_train)\n",
        "\n",
        "#test model\n",
        "y_pred_svm_rbf = svm_classifier_rbf.predict(X_test)\n",
        "\n",
        "accuracy_svm_rbf = accuracy_score(y_test, y_pred_svm_rbf)\n",
        "precision_svm_rbf = precision_score(y_test, y_pred_svm_rbf, average='macro')\n",
        "recall_svm_rbf = recall_score(y_test, y_pred_svm_rbf, average='macro')\n",
        "f1_svm_rbf= f1_score(y_test, y_pred_svm_rbf, average='macro')\n"
      ],
      "metadata": {
        "id": "_A_pVwQKM34v"
      },
      "execution_count": null,
      "outputs": []
    },
    {
      "cell_type": "code",
      "source": [
        "from prettytable import PrettyTable\n",
        "table = PrettyTable()\n",
        "table.field_names = ['ALGORITHM', 'ACC','PRE','RECALL', 'F1']\n",
        "table.add_row(['Logistic Regression', accuracy_Logistic, precision_Logistic, recall_Logistic, f1_Logistic])\n",
        "table.add_row(['Decision Tree', accuracy_decisionTree, precision_decisionTree, recall_decisionTree, f1_decisionTree])\n",
        "table.add_row(['kNN', accuracy_knn, precision_knn, recall_knn, f1_knn])\n",
        "table.add_row(['Random Forest', accuracy_clf, precision_clf, recall_clf, f1_clf])\n",
        "table.add_row(['Naive_bayes:GaussianNB', accuracy_gau, precision_gau, recall_gau, f1_gau])\n",
        "table.add_row(['Linear', accuracy_svm, precision_svm, recall_svm, f1_svm])\n",
        "table.add_row(['Poly',  accuracy_svm_poly, precision_svm_poly, recall_svm_poly, f1_svm_poly])\n",
        "table.add_row(['Sigmoid', accuracy_svm_sigmoid, precision_svm_sigmoid, recall_svm_sigmoid, f1_svm_sigmoid])\n",
        "table.add_row(['Radial Basis Function',  accuracy_svm_rbf, precision_svm_rbf, recall_svm_rbf, f1_svm_rbf])\n",
        "\n",
        "print(table)"
      ],
      "metadata": {
        "colab": {
          "base_uri": "https://localhost:8080/"
        },
        "id": "eZLGGW0vM3Af",
        "outputId": "7f597415-f2e4-47dd-cfca-dab4fc456f64"
      },
      "execution_count": null,
      "outputs": [
        {
          "output_type": "stream",
          "name": "stdout",
          "text": [
            "+------------------------+--------------------+--------------------+--------------------+--------------------+\n",
            "|       ALGORITHM        |        ACC         |        PRE         |       RECALL       |         F1         |\n",
            "+------------------------+--------------------+--------------------+--------------------+--------------------+\n",
            "|  Logistic Regression   | 0.8178560764407286 | 0.8183094066248084 | 0.8167398015427625 | 0.8171843768434679 |\n",
            "|     Decision Tree      | 0.7915795759928337 | 0.7913218352576661 | 0.7909992305477542 | 0.7911321670483755 |\n",
            "|          kNN           | 0.7614213197969543 | 0.7610326837721122 | 0.7610932937628644 | 0.7610612862815735 |\n",
            "|     Random Forest      | 0.8471185428486115 | 0.8474878270640483 | 0.8479788840013232 | 0.8470933351596297 |\n",
            "| Naive_bayes:GaussianNB | 0.723499552105106  | 0.7390524686347992 | 0.7177930294913828 | 0.7152210884353742 |\n",
            "|         Linear         | 0.8241266049567035 | 0.8239198625455106 |  0.82365951345184  | 0.8237730764141874 |\n",
            "|          Poly          | 0.6566139146013735 | 0.7264720548003403 | 0.6447222148793632 | 0.6171687254775662 |\n",
            "|        Sigmoid         | 0.5488205434458047 | 0.5477317260424663 | 0.5476160197528466 | 0.5475993303845819 |\n",
            "| Radial Basis Function  | 0.7115556882651538 | 0.7131316542898969 | 0.7089643329949268 | 0.7090466117700386 |\n",
            "+------------------------+--------------------+--------------------+--------------------+--------------------+\n"
          ]
        }
      ]
    },
    {
      "cell_type": "markdown",
      "source": [
        "#2.4. Using a selection feature technique to above dataset, then compare the classification results with those in Task 2.3."
      ],
      "metadata": {
        "id": "SweVRB4meApP"
      }
    },
    {
      "cell_type": "code",
      "source": [
        "#code\n",
        "X = bank_encoded.drop(columns='deposit')\n",
        "y = bank_encoded['deposit']\n",
        "# feature extraction\n",
        "pca = PCA()\n",
        "fit = pca.fit(X)\n",
        "\n",
        "pca=PCA(n_components=int(0.5*len(X.columns)))\n",
        "X_new=pca.fit_transform(X)\n",
        "\n",
        "X_train, X_test, y_train, y_test = train_test_split(X_new, y, test_size=0.3, random_state=42)"
      ],
      "metadata": {
        "id": "seFBhqCSeC7C"
      },
      "execution_count": null,
      "outputs": []
    },
    {
      "cell_type": "code",
      "source": [
        "# Logistic Regression\n",
        "from sklearn.linear_model import LogisticRegression\n",
        "Logistic = LogisticRegression()\n",
        "Logistic.fit(X_train, y_train)\n",
        "y_pred_Logistic = Logistic.predict(X_test)\n",
        "accuracy_Logistic = accuracy_score(y_test, y_pred_Logistic)\n",
        "precision_Logistic = precision_score(y_test, y_pred_Logistic, average='macro')\n",
        "recall_Logistic = recall_score(y_test, y_pred_Logistic, average='macro')\n",
        "f1_Logistic = f1_score(y_test, y_pred_Logistic, average='macro')\n",
        "\n",
        "# Decision Tree\n",
        "from sklearn.tree import DecisionTreeClassifier\n",
        "decisionTree = DecisionTreeClassifier()\n",
        "decisionTree.fit(X_train, y_train)\n",
        "y_pred_decisionTree = decisionTree.predict(X_test)\n",
        "accuracy_decisionTree = accuracy_score(y_test, y_pred_decisionTree)\n",
        "precision_decisionTree = precision_score(y_test, y_pred_decisionTree, average='macro')\n",
        "recall_decisionTree = recall_score(y_test, y_pred_decisionTree, average='macro')\n",
        "f1_decisionTree = f1_score(y_test, y_pred_decisionTree, average='macro')\n",
        "\n",
        "# kNN = 3\n",
        "from sklearn.neighbors import KNeighborsClassifier\n",
        "knn = KNeighborsClassifier(n_neighbors=3)\n",
        "knn.fit(X_train, y_train)\n",
        "y_pred_knn = knn.predict(X_test)\n",
        "accuracy_knn = accuracy_score(y_test, y_pred_knn)\n",
        "precision_knn = precision_score(y_test, y_pred_knn, average='macro')\n",
        "recall_knn = recall_score(y_test, y_pred_knn, average='macro')\n",
        "f1_knn = f1_score(y_test, y_pred_knn, average='macro')\n",
        "\n"
      ],
      "metadata": {
        "id": "X5V8pML2Pghu"
      },
      "execution_count": null,
      "outputs": []
    },
    {
      "cell_type": "code",
      "source": [
        "# random forest\n",
        "clf = RandomForestClassifier(n_estimators=100)\n",
        "\n",
        "# fit\n",
        "clf.fit(X_train, y_train)\n",
        "\n",
        "# predict\n",
        "y_pred_clf = clf.predict(X_test)\n",
        "\n",
        "accuracy_clf = accuracy_score(y_test, y_pred_clf)\n",
        "precision_clf = precision_score(y_test, y_pred_clf, average='macro')\n",
        "recall_clf = recall_score(y_test, y_pred_clf, average='macro')\n",
        "f1_clf= f1_score(y_test, y_pred_clf, average='macro')\n"
      ],
      "metadata": {
        "id": "CtjWlep6PogO"
      },
      "execution_count": null,
      "outputs": []
    },
    {
      "cell_type": "code",
      "source": [
        "#naive_bayes: GaussianNB\n",
        "gau = GaussianNB()\n",
        "\n",
        "#fit\n",
        "gau.fit(X_train, y_train)\n",
        "\n",
        "# predict\n",
        "y_pred_gau = gau.predict(X_test)\n",
        "\n",
        "accuracy_gau = accuracy_score(y_test, y_pred_gau)\n",
        "precision_gau = precision_score(y_test, y_pred_gau, average='macro')\n",
        "recall_gau = recall_score(y_test, y_pred_gau, average='macro')\n",
        "f1_gau= f1_score(y_test, y_pred_gau, average='macro')"
      ],
      "metadata": {
        "id": "t4UmJDWUPq0F"
      },
      "execution_count": null,
      "outputs": []
    },
    {
      "cell_type": "code",
      "source": [
        "#linear\n",
        "svm_classifier = svm.SVC(kernel=\"linear\")\n",
        "\n",
        "# xây dựng model\n",
        "svm_classifier.fit(X_train, y_train)\n",
        "\n",
        "#test model\n",
        "y_pred_svm = svm_classifier.predict(X_test)\n",
        "\n",
        "accuracy_svm = accuracy_score(y_test, y_pred_svm)\n",
        "precision_svm = precision_score(y_test, y_pred_svm, average='macro')\n",
        "recall_svm = recall_score(y_test, y_pred_svm, average='macro')\n",
        "f1_svm= f1_score(y_test, y_pred_svm, average='macro')\n",
        "\n",
        "# poly\n",
        "svm_classifier_poly = svm.SVC(kernel=\"poly\")\n",
        "\n",
        "# xây dựng model\n",
        "svm_classifier_poly.fit(X_train, y_train)\n",
        "\n",
        "#test model\n",
        "y_pred_svm_poly = svm_classifier_poly.predict(X_test)\n",
        "\n",
        "accuracy_svm_poly = accuracy_score(y_test, y_pred_svm_poly)\n",
        "precision_svm_poly = precision_score(y_test, y_pred_svm_poly, average='macro')\n",
        "recall_svm_poly = recall_score(y_test, y_pred_svm_poly, average='macro')\n",
        "f1_svm_poly= f1_score(y_test, y_pred_svm_poly, average='macro')\n",
        "\n",
        "# sigmoid\n",
        "svm_classifier_sigmoid = svm.SVC(kernel=\"sigmoid\")\n",
        "\n",
        "# xây dựng model\n",
        "svm_classifier_sigmoid.fit(X_train, y_train)\n",
        "\n",
        "#test model\n",
        "y_pred_svm_sigmoid = svm_classifier_sigmoid.predict(X_test)\n",
        "\n",
        "accuracy_svm_sigmoid = accuracy_score(y_test, y_pred_svm_sigmoid)\n",
        "precision_svm_sigmoid = precision_score(y_test, y_pred_svm_sigmoid, average='macro')\n",
        "recall_svm_sigmoid = recall_score(y_test, y_pred_svm_sigmoid, average='macro')\n",
        "f1_svm_sigmoid= f1_score(y_test, y_pred_svm_sigmoid, average='macro')\n",
        "\n",
        "#Radial Basis Function\n",
        "svm_classifier_rbf = svm.SVC(kernel=\"rbf\")\n",
        "\n",
        "# xây dựng model\n",
        "svm_classifier_rbf.fit(X_train, y_train)\n",
        "\n",
        "#test model\n",
        "y_pred_svm_rbf = svm_classifier_rbf.predict(X_test)\n",
        "\n",
        "accuracy_svm_rbf = accuracy_score(y_test, y_pred_svm_rbf)\n",
        "precision_svm_rbf = precision_score(y_test, y_pred_svm_rbf, average='macro')\n",
        "recall_svm_rbf = recall_score(y_test, y_pred_svm_rbf, average='macro')\n",
        "f1_svm_rbf= f1_score(y_test, y_pred_svm_rbf, average='macro')\n"
      ],
      "metadata": {
        "id": "q7JXTwm9PtKF"
      },
      "execution_count": null,
      "outputs": []
    },
    {
      "cell_type": "code",
      "source": [
        "from prettytable import PrettyTable\n",
        "table = PrettyTable()\n",
        "table.field_names = ['ALGORITHM', 'ACC','PRE','RECALL', 'F1']\n",
        "table.add_row(['Logistic Regression', accuracy_Logistic, precision_Logistic, recall_Logistic, f1_Logistic])\n",
        "table.add_row(['Decision Tree', accuracy_decisionTree, precision_decisionTree, recall_decisionTree, f1_decisionTree])\n",
        "table.add_row(['kNN', accuracy_knn, precision_knn, recall_knn, f1_knn])\n",
        "table.add_row(['Random Forest', accuracy_clf, precision_clf, recall_clf, f1_clf])\n",
        "table.add_row(['Naive_bayes:GaussianNB', accuracy_gau, precision_gau, recall_gau, f1_gau])\n",
        "table.add_row(['Linear', accuracy_svm, precision_svm, recall_svm, f1_svm])\n",
        "table.add_row(['Poly',  accuracy_svm_poly, precision_svm_poly, recall_svm_poly, f1_svm_poly])\n",
        "table.add_row(['Sigmoid', accuracy_svm_sigmoid, precision_svm_sigmoid, recall_svm_sigmoid, f1_svm_sigmoid])\n",
        "table.add_row(['Radial Basis Function',  accuracy_svm_rbf, precision_svm_rbf, recall_svm_rbf, f1_svm_rbf])\n",
        "\n",
        "print(table)"
      ],
      "metadata": {
        "id": "2qOsst70Pub1",
        "colab": {
          "base_uri": "https://localhost:8080/"
        },
        "outputId": "b7b3fc78-d64f-48ee-dc4b-6e6d65ce5937"
      },
      "execution_count": null,
      "outputs": [
        {
          "output_type": "stream",
          "name": "stdout",
          "text": [
            "+------------------------+--------------------+--------------------+--------------------+--------------------+\n",
            "|       ALGORITHM        |        ACC         |        PRE         |       RECALL       |         F1         |\n",
            "+------------------------+--------------------+--------------------+--------------------+--------------------+\n",
            "|  Logistic Regression   | 0.8044192296207823 | 0.805114298804543  | 0.8030761300481462 | 0.8035715740842475 |\n",
            "|     Decision Tree      | 0.7593311436249627 | 0.7591050904707574 | 0.7584571875198703 | 0.7586721925519991 |\n",
            "|          kNN           | 0.7581367572409674 | 0.7580516595848488 | 0.758466475244285  | 0.7580153960116238 |\n",
            "|     Random Forest      | 0.8348760824126605 | 0.8350603544943804 | 0.8355838799397298 | 0.8348331406234881 |\n",
            "| Naive_bayes:GaussianNB | 0.7515676321289937 | 0.7532218523683145 | 0.7493548603733522 | 0.7497553566476173 |\n",
            "|         Linear         | 0.806509405792774  | 0.8063745417693109 | 0.8058327980984455 | 0.8060385879311183 |\n",
            "|          Poly          | 0.6124216183935504 | 0.7275328755614275 | 0.5973233849897513 | 0.5391989209606198 |\n",
            "|        Sigmoid         | 0.5727082711257092 | 0.5722432537371385 | 0.5723142222923961 | 0.5722467959471607 |\n",
            "| Radial Basis Function  | 0.7124514780531502 | 0.7142846455396954 | 0.7097530751298317 | 0.7098019769105786 |\n",
            "+------------------------+--------------------+--------------------+--------------------+--------------------+\n"
          ]
        }
      ]
    },
    {
      "cell_type": "markdown",
      "source": [
        "#Task 3.\n",
        "For a given dataset (**mobile price classification**), perform feature selection techniques and then compare the performance of selected classification algorithms (**Decision Tree, kNN, Logistic Regression, SVM, Random Forest, and NaiveBayes**) based on **accuracy, precision, recall, and f1** measures.\n"
      ],
      "metadata": {
        "id": "Z5pp7_h-aP2u"
      }
    },
    {
      "cell_type": "code",
      "source": [
        "# code\n",
        "mobile = pd.read_csv('mobile.csv')\n",
        "\n",
        "X = mobile.drop(columns='price_range')\n",
        "y = mobile['price_range']"
      ],
      "metadata": {
        "id": "Rw_-8FIf2KxW"
      },
      "execution_count": null,
      "outputs": []
    },
    {
      "cell_type": "code",
      "source": [
        "#Create a Random Forest Classifier\n",
        "clf=RandomForestClassifier(n_estimators=100)\n",
        "\n",
        "#Train the model using the training sets y_pred=clf.predict(X_test)\n",
        "clf.fit(X,y)"
      ],
      "metadata": {
        "id": "AGW3JYc4WFdp",
        "colab": {
          "base_uri": "https://localhost:8080/",
          "height": 74
        },
        "outputId": "ed6ae5d1-de56-41d6-be6b-969888c85773"
      },
      "execution_count": null,
      "outputs": [
        {
          "output_type": "execute_result",
          "data": {
            "text/plain": [
              "RandomForestClassifier()"
            ],
            "text/html": [
              "<style>#sk-container-id-1 {color: black;background-color: white;}#sk-container-id-1 pre{padding: 0;}#sk-container-id-1 div.sk-toggleable {background-color: white;}#sk-container-id-1 label.sk-toggleable__label {cursor: pointer;display: block;width: 100%;margin-bottom: 0;padding: 0.3em;box-sizing: border-box;text-align: center;}#sk-container-id-1 label.sk-toggleable__label-arrow:before {content: \"▸\";float: left;margin-right: 0.25em;color: #696969;}#sk-container-id-1 label.sk-toggleable__label-arrow:hover:before {color: black;}#sk-container-id-1 div.sk-estimator:hover label.sk-toggleable__label-arrow:before {color: black;}#sk-container-id-1 div.sk-toggleable__content {max-height: 0;max-width: 0;overflow: hidden;text-align: left;background-color: #f0f8ff;}#sk-container-id-1 div.sk-toggleable__content pre {margin: 0.2em;color: black;border-radius: 0.25em;background-color: #f0f8ff;}#sk-container-id-1 input.sk-toggleable__control:checked~div.sk-toggleable__content {max-height: 200px;max-width: 100%;overflow: auto;}#sk-container-id-1 input.sk-toggleable__control:checked~label.sk-toggleable__label-arrow:before {content: \"▾\";}#sk-container-id-1 div.sk-estimator input.sk-toggleable__control:checked~label.sk-toggleable__label {background-color: #d4ebff;}#sk-container-id-1 div.sk-label input.sk-toggleable__control:checked~label.sk-toggleable__label {background-color: #d4ebff;}#sk-container-id-1 input.sk-hidden--visually {border: 0;clip: rect(1px 1px 1px 1px);clip: rect(1px, 1px, 1px, 1px);height: 1px;margin: -1px;overflow: hidden;padding: 0;position: absolute;width: 1px;}#sk-container-id-1 div.sk-estimator {font-family: monospace;background-color: #f0f8ff;border: 1px dotted black;border-radius: 0.25em;box-sizing: border-box;margin-bottom: 0.5em;}#sk-container-id-1 div.sk-estimator:hover {background-color: #d4ebff;}#sk-container-id-1 div.sk-parallel-item::after {content: \"\";width: 100%;border-bottom: 1px solid gray;flex-grow: 1;}#sk-container-id-1 div.sk-label:hover label.sk-toggleable__label {background-color: #d4ebff;}#sk-container-id-1 div.sk-serial::before {content: \"\";position: absolute;border-left: 1px solid gray;box-sizing: border-box;top: 0;bottom: 0;left: 50%;z-index: 0;}#sk-container-id-1 div.sk-serial {display: flex;flex-direction: column;align-items: center;background-color: white;padding-right: 0.2em;padding-left: 0.2em;position: relative;}#sk-container-id-1 div.sk-item {position: relative;z-index: 1;}#sk-container-id-1 div.sk-parallel {display: flex;align-items: stretch;justify-content: center;background-color: white;position: relative;}#sk-container-id-1 div.sk-item::before, #sk-container-id-1 div.sk-parallel-item::before {content: \"\";position: absolute;border-left: 1px solid gray;box-sizing: border-box;top: 0;bottom: 0;left: 50%;z-index: -1;}#sk-container-id-1 div.sk-parallel-item {display: flex;flex-direction: column;z-index: 1;position: relative;background-color: white;}#sk-container-id-1 div.sk-parallel-item:first-child::after {align-self: flex-end;width: 50%;}#sk-container-id-1 div.sk-parallel-item:last-child::after {align-self: flex-start;width: 50%;}#sk-container-id-1 div.sk-parallel-item:only-child::after {width: 0;}#sk-container-id-1 div.sk-dashed-wrapped {border: 1px dashed gray;margin: 0 0.4em 0.5em 0.4em;box-sizing: border-box;padding-bottom: 0.4em;background-color: white;}#sk-container-id-1 div.sk-label label {font-family: monospace;font-weight: bold;display: inline-block;line-height: 1.2em;}#sk-container-id-1 div.sk-label-container {text-align: center;}#sk-container-id-1 div.sk-container {/* jupyter's `normalize.less` sets `[hidden] { display: none; }` but bootstrap.min.css set `[hidden] { display: none !important; }` so we also need the `!important` here to be able to override the default hidden behavior on the sphinx rendered scikit-learn.org. See: https://github.com/scikit-learn/scikit-learn/issues/21755 */display: inline-block !important;position: relative;}#sk-container-id-1 div.sk-text-repr-fallback {display: none;}</style><div id=\"sk-container-id-1\" class=\"sk-top-container\"><div class=\"sk-text-repr-fallback\"><pre>RandomForestClassifier()</pre><b>In a Jupyter environment, please rerun this cell to show the HTML representation or trust the notebook. <br />On GitHub, the HTML representation is unable to render, please try loading this page with nbviewer.org.</b></div><div class=\"sk-container\" hidden><div class=\"sk-item\"><div class=\"sk-estimator sk-toggleable\"><input class=\"sk-toggleable__control sk-hidden--visually\" id=\"sk-estimator-id-1\" type=\"checkbox\" checked><label for=\"sk-estimator-id-1\" class=\"sk-toggleable__label sk-toggleable__label-arrow\">RandomForestClassifier</label><div class=\"sk-toggleable__content\"><pre>RandomForestClassifier()</pre></div></div></div></div></div>"
            ]
          },
          "metadata": {},
          "execution_count": 33
        }
      ]
    },
    {
      "cell_type": "code",
      "source": [
        "feature_imp = pd.Series(clf.feature_importances_,index=X.columns).sort_values(ascending=False)\n",
        "feature_imp"
      ],
      "metadata": {
        "id": "uWZI9NllWdYP"
      },
      "execution_count": null,
      "outputs": []
    },
    {
      "cell_type": "code",
      "source": [
        "X_new = X[feature_imp.index[0:10]]# Lấy 10 thuộc tính với mức độ quan trọng cao nhất\n",
        "X_new"
      ],
      "metadata": {
        "id": "qZDosy6_Y2sn"
      },
      "execution_count": null,
      "outputs": []
    },
    {
      "cell_type": "code",
      "source": [
        "X_train, X_test, y_train, y_test = train_test_split(X_new, y, test_size=0.3, random_state=1)\n"
      ],
      "metadata": {
        "id": "wRvw7D_wZYWb"
      },
      "execution_count": null,
      "outputs": []
    },
    {
      "cell_type": "code",
      "source": [
        "#Create a Random Forest Classifier\n",
        "clf=RandomForestClassifier(n_estimators=100)\n",
        "\n",
        "#Train the model using the training sets y_pred=clf.predict(X_test)\n",
        "clf.fit(X_train,y_train)\n",
        "\n",
        "# prediction on test set\n",
        "y_pred=clf.predict(X_test)\n",
        "\n",
        "#Import scikit-learn metrics module for accuracy calculation\n",
        "# Model Accuracy, how often is the classifier correct?\n",
        "accuracy_clf = accuracy_score(y_test, y_pred)\n",
        "precision_clf = precision_score(y_test, y_pred, average='macro')\n",
        "recall_clf = recall_score(y_test, y_pred, average='macro')\n",
        "f1_clf= f1_score(y_test, y_pred, average='macro')\n",
        "\n",
        "from prettytable import PrettyTable\n",
        "table = PrettyTable()\n",
        "table.field_names = ['ALGORITHM', 'ACC','PRE','RECALL', 'F1']\n",
        "table.add_row(['feature selection:Random Forest', accuracy_clf, precision_clf, recall_clf, f1_clf])"
      ],
      "metadata": {
        "id": "fUr4VPSdZdUx"
      },
      "execution_count": null,
      "outputs": []
    },
    {
      "cell_type": "code",
      "source": [
        "# tạo hàm\n",
        "def measures_alg(model, X_train, X_test, y_train, y_test):\n",
        "  Classifier = model\n",
        "  Classifier.fit(X_train, y_train)\n",
        "\n",
        "  y_pred = Classifier.predict(X_test)\n",
        "  accuracy = accuracy_score(y_test, y_pred)\n",
        "  precision = precision_score(y_test, y_pred, average='macro')\n",
        "  recall = recall_score(y_test, y_pred, average='macro')\n",
        "  f1= f1_score(y_test, y_pred, average='macro')\n",
        "  return accuracy, precision, recall, f1\n"
      ],
      "metadata": {
        "id": "mcY6np7aZhxn"
      },
      "execution_count": null,
      "outputs": []
    },
    {
      "cell_type": "code",
      "source": [
        "# random forest\n",
        "X_train, X_test, y_train, y_test = train_test_split(X, y, test_size=0.3, random_state=42)\n"
      ],
      "metadata": {
        "id": "_eJex0ctasBw"
      },
      "execution_count": null,
      "outputs": []
    },
    {
      "cell_type": "code",
      "source": [
        "random_forest = measures_alg(RandomForestClassifier(n_estimators=100), X_train, X_test, y_train, y_test)\n",
        "table.add_row(['Random Forest', random_forest[0], random_forest[1], random_forest[2], random_forest[3]])"
      ],
      "metadata": {
        "id": "EVItneR4bnIy"
      },
      "execution_count": null,
      "outputs": []
    },
    {
      "cell_type": "code",
      "source": [
        "logistic_regression = measures_alg(LogisticRegression(), X_train, X_test, y_train, y_test)\n",
        "table.add_row(['Logistic Regression', logistic_regression[0], logistic_regression[1], logistic_regression[2], logistic_regression[3]])"
      ],
      "metadata": {
        "id": "RdGtbM2-rdcA"
      },
      "execution_count": null,
      "outputs": []
    },
    {
      "cell_type": "code",
      "source": [
        "decision_tree = measures_alg(DecisionTreeClassifier(), X_train, X_test, y_train, y_test)\n",
        "table.add_row(['Decision Tree', decision_tree[0], decision_tree[1], decision_tree[2], decision_tree[3]])"
      ],
      "metadata": {
        "id": "18u1FB_AbwbR"
      },
      "execution_count": null,
      "outputs": []
    },
    {
      "cell_type": "code",
      "source": [
        "kNN = measures_alg(KNeighborsClassifier(n_neighbors=3), X_train, X_test, y_train, y_test)\n",
        "table.add_row(['kNN', kNN[0], kNN[1], kNN[2], kNN[3]])"
      ],
      "metadata": {
        "id": "3Sj_qraVrpaI"
      },
      "execution_count": null,
      "outputs": []
    },
    {
      "cell_type": "code",
      "source": [
        "gauss = measures_alg(GaussianNB(), X_train, X_test, y_train, y_test)\n",
        "table.add_row(['Gauss ', gauss[0], gauss[1], gauss[2], gauss[3]])"
      ],
      "metadata": {
        "id": "5O4yFyXYrqZH"
      },
      "execution_count": null,
      "outputs": []
    },
    {
      "cell_type": "code",
      "source": [
        "linear = measures_alg(svm.SVC(kernel=\"linear\"), X_train, X_test, y_train, y_test)\n",
        "table.add_row(['Linear', linear[0], linear[1], linear[2], linear[3]])"
      ],
      "metadata": {
        "id": "9VMLjx6XrqI3"
      },
      "execution_count": null,
      "outputs": []
    },
    {
      "cell_type": "code",
      "source": [
        "poly = measures_alg(svm.SVC(kernel=\"poly\"), X_train, X_test, y_train, y_test)\n",
        "table.add_row(['Poly', poly[0], poly[1], poly[2], poly[3]])"
      ],
      "metadata": {
        "id": "hy6dNWxVsc4n"
      },
      "execution_count": null,
      "outputs": []
    },
    {
      "cell_type": "code",
      "source": [
        "sigmoid = measures_alg(svm.SVC(kernel=\"sigmoid\"), X_train, X_test, y_train, y_test)\n",
        "table.add_row(['Sigmoid', sigmoid[0], sigmoid[1], sigmoid[2], sigmoid[3]])"
      ],
      "metadata": {
        "id": "YBuSyHdrsdg2"
      },
      "execution_count": null,
      "outputs": []
    },
    {
      "cell_type": "code",
      "source": [
        "rbf = measures_alg(svm.SVC(kernel=\"rbf\"), X_train, X_test, y_train, y_test)\n",
        "table.add_row([' RBF', rbf[0], rbf[1], rbf[2], rbf[3]])"
      ],
      "metadata": {
        "id": "iu2Te9D3sd2m"
      },
      "execution_count": null,
      "outputs": []
    },
    {
      "cell_type": "code",
      "source": [
        "print(table)"
      ],
      "metadata": {
        "id": "5h7rwoX8soaH",
        "colab": {
          "base_uri": "https://localhost:8080/"
        },
        "outputId": "df7c7b29-fc02-4c65-fb80-bfc6734c0326"
      },
      "execution_count": null,
      "outputs": [
        {
          "output_type": "stream",
          "name": "stdout",
          "text": [
            "+---------------------------------+---------------------+--------------------+---------------------+---------------------+\n",
            "|            ALGORITHM            |         ACC         |        PRE         |        RECALL       |          F1         |\n",
            "+---------------------------------+---------------------+--------------------+---------------------+---------------------+\n",
            "| feature selection:Random Forest |  0.8933333333333333 | 0.8966064430027509 |  0.895067394815717  |  0.8957273702147712 |\n",
            "|          Random Forest          |  0.8633333333333333 | 0.8627701724622372 |  0.8628387355407545 |  0.8627131859964262 |\n",
            "|       Logistic Regression       |        0.635        | 0.6353402415098679 |  0.6327709643093093 |  0.6337413796298552 |\n",
            "|          Decision Tree          |  0.8166666666666667 | 0.8168424436925557 |  0.8157577876123483 |  0.8159033200316694 |\n",
            "|               kNN               |  0.9133333333333333 | 0.9133642932084153 |  0.9129389668396453 |  0.9127281237389921 |\n",
            "|              Gauss              |  0.7983333333333333 | 0.800164441361771  |  0.7971589403182582 |  0.7982822575775558 |\n",
            "|              Linear             |  0.9733333333333334 | 0.9740415806116616 |  0.9731939196090034 |  0.9731754840004371 |\n",
            "|               Poly              |  0.9533333333333334 | 0.9532393260334436 |  0.9531118406935614 |  0.9528548440533149 |\n",
            "|             Sigmoid             | 0.18666666666666668 | 0.2230817002037161 | 0.18618072768668445 | 0.20084260176299387 |\n",
            "|                RBF              |  0.9533333333333334 | 0.9538929793109375 |  0.9533582255410953 |  0.953102771234539  |\n",
            "+---------------------------------+---------------------+--------------------+---------------------+---------------------+\n"
          ]
        }
      ]
    },
    {
      "cell_type": "markdown",
      "source": [
        "#Task 4.\n",
        "For a given dataset (named **mushroom.csv**) with the following information:\n",
        "\n",
        "*   Attribute Information: (**classes**: edible=e, poisonous=p)\n",
        "*   **cap-shape**: bell=b,conical=c,convex=x,flat=f, knobbed=k,sunken=s\n",
        "*   **cap-surface**: fibrous=f,grooves=g,scaly=y,smooth=s\n",
        "*   **cap-color**: brown=n,buff=b,cinnamon=c,gray=g,green=r,pink=p,purple=u,red=e,white=w,yellow=y\n",
        "*   **bruises**: bruises=t,no=f\n",
        "*   **odor**: almond=a,anise=l,creosote=c,fishy=y,foul=f,musty=m,none=n,pungent=p,spicy=s\n",
        "*   **gill-attachment**: attached=a,descending=d,free=f,notched=n\n",
        "*   **gill-spacing**: close=c,crowded=w,distant=d\n",
        "*   **gill-size**: broad=b,narrow=n\n",
        "*   **gill-color**: black=k,brown=n,buff=b,chocolate=h,gray=g, green=r,orange=o,pink=p,purple=u,red=e,white=w,yellow=y\n",
        "*   **stalk-shape**: enlarging=e,tapering=t\n",
        "*   **stalk-root**: bulbous=b,club=c,cup=u,equal=e,rhizomorphs=z,rooted=r,missing=?\n",
        "*   **stalk-surface-above-ring**: fibrous=f,scaly=y,silky=k,smooth=s\n",
        "*   **stalk-surface-below-ring**: fibrous=f,scaly=y,silky=k,smooth=s\n",
        "*   **stalk-color-above-ring**: brown=n,buff=b,cinnamon=c,gray=g,orange=o,pink=p,red=e,white=w,yellow=y\n",
        "*   **stalk-color-below-ring**: brown=n,buff=b,cinnamon=c,gray=g,orange=o,pink=p,red=e,white=w,yellow=y\n",
        "*   **veil-type**: partial=p,universal=u\n",
        "*   **veil-color**: brown=n,orange=o,white=w,yellow=y\n",
        "*   **ring-number**: none=n,one=o,two=t\n",
        "*   **ring-type**: cobwebby=c,evanescent=e,flaring=f,large=l,none=n,pendant=p,sheathing=s,zone=z\n",
        "*   **spore-print-color**: black=k,brown=n,buff=b,chocolate=h,green=r,orange=o,purple=u,white=w,yellow=y\n",
        "*   **population**: abundant=a,clustered=c,numerous=n,scattered=s,several=v,solitary=y\n",
        "*   **habitat**: grasses=g,leaves=l,meadows=m,paths=p,urban=u,waste=w,woods=d"
      ],
      "metadata": {
        "id": "01l4jOwqRosO"
      }
    },
    {
      "cell_type": "markdown",
      "source": [
        "#Task 4.1. Apply approriate reprocessing techniques for the mushroom dataset"
      ],
      "metadata": {
        "id": "-sdulZgrUKa6"
      }
    },
    {
      "cell_type": "code",
      "source": [
        "#code\n",
        "mushroom = pd.read_csv('mushrooms.csv')"
      ],
      "metadata": {
        "id": "b0EAe9xyUTdJ"
      },
      "execution_count": null,
      "outputs": []
    },
    {
      "cell_type": "code",
      "source": [
        "#code\n",
        "categorical_columns = mushroom.columns\n",
        "\n",
        "encoder = LabelEncoder()\n",
        "for columns in categorical_columns:\n",
        "  mushroom[columns] = encoder.fit_transform(mushroom[columns])\n",
        "\n",
        "\n"
      ],
      "metadata": {
        "id": "UyYtYzjNxy1o"
      },
      "execution_count": null,
      "outputs": []
    },
    {
      "cell_type": "markdown",
      "source": [
        "#Task 4.2. Apply classification algorithms (**Decision Tree, Logistic Regression, SVM, kNN, Random Forest, NaiveBayes**) to the reprocessed dataset"
      ],
      "metadata": {
        "id": "TLjmCHZdUUdY"
      }
    },
    {
      "cell_type": "code",
      "source": [
        "#code\n",
        "X = mushroom.drop(columns='class')\n",
        "y = mushroom['class']\n",
        "\n",
        "X_train, X_test, y_train, y_test = train_test_split(X,y, test_size=0.3, random_state=42)"
      ],
      "metadata": {
        "id": "Z4qZBUVWUt6l"
      },
      "execution_count": null,
      "outputs": []
    },
    {
      "cell_type": "code",
      "source": [
        "from prettytable import PrettyTable\n",
        "table = PrettyTable()\n",
        "table.field_names = ['ALGORITHM', 'ACC','PRE','RECALL', 'F1']"
      ],
      "metadata": {
        "id": "9PIB8YCewmzY"
      },
      "execution_count": null,
      "outputs": []
    },
    {
      "cell_type": "code",
      "source": [
        "random_forest = measures_alg(RandomForestClassifier(n_estimators=100), X_train, X_test, y_train, y_test)\n",
        "table.add_row(['Random Forest', random_forest[0], random_forest[1], random_forest[2], random_forest[3]])"
      ],
      "metadata": {
        "id": "5S2rmKR2wneX"
      },
      "execution_count": null,
      "outputs": []
    },
    {
      "cell_type": "code",
      "source": [
        "logistic_regression = measures_alg(LogisticRegression(), X_train, X_test, y_train, y_test)\n",
        "table.add_row(['Logistic Regression', logistic_regression[0], logistic_regression[1], logistic_regression[2], logistic_regression[3]])"
      ],
      "metadata": {
        "id": "QgtfDAYswov3"
      },
      "execution_count": null,
      "outputs": []
    },
    {
      "cell_type": "code",
      "source": [
        "decision_tree = measures_alg(DecisionTreeClassifier(), X_train, X_test, y_train, y_test)\n",
        "table.add_row(['Decision Tree', decision_tree[0], decision_tree[1], decision_tree[2], decision_tree[3]])"
      ],
      "metadata": {
        "id": "8lku2cfVwqr3"
      },
      "execution_count": null,
      "outputs": []
    },
    {
      "cell_type": "code",
      "source": [
        "kNN = measures_alg(KNeighborsClassifier(n_neighbors=3), X_train, X_test, y_train, y_test)\n",
        "table.add_row(['kNN', kNN[0], kNN[1], kNN[2], kNN[3]])"
      ],
      "metadata": {
        "id": "8EDt_9Ecwr1g"
      },
      "execution_count": null,
      "outputs": []
    },
    {
      "cell_type": "code",
      "source": [
        "gauss = measures_alg(GaussianNB(), X_train, X_test, y_train, y_test)\n",
        "table.add_row(['Gauss ', gauss[0], gauss[1], gauss[2], gauss[3]])"
      ],
      "metadata": {
        "id": "OnfKBNsawtKR"
      },
      "execution_count": null,
      "outputs": []
    },
    {
      "cell_type": "code",
      "source": [
        "linear = measures_alg(svm.SVC(kernel=\"linear\"), X_train, X_test, y_train, y_test)\n",
        "table.add_row(['Linear', linear[0], linear[1], linear[2], linear[3]])"
      ],
      "metadata": {
        "id": "NDAdtyg0wuvP"
      },
      "execution_count": null,
      "outputs": []
    },
    {
      "cell_type": "code",
      "source": [
        "poly = measures_alg(svm.SVC(kernel=\"poly\"), X_train, X_test, y_train, y_test)\n",
        "table.add_row(['Poly', poly[0], poly[1], poly[2], poly[3]])"
      ],
      "metadata": {
        "id": "AIFqJa8vwv_u"
      },
      "execution_count": null,
      "outputs": []
    },
    {
      "cell_type": "code",
      "source": [
        "sigmoid = measures_alg(svm.SVC(kernel=\"sigmoid\"), X_train, X_test, y_train, y_test)\n",
        "table.add_row(['Sigmoid', sigmoid[0], sigmoid[1], sigmoid[2], sigmoid[3]])"
      ],
      "metadata": {
        "id": "TZHdnL6Nwxr3"
      },
      "execution_count": null,
      "outputs": []
    },
    {
      "cell_type": "code",
      "source": [
        "rbf = measures_alg(svm.SVC(kernel=\"rbf\"), X_train, X_test, y_train, y_test)\n",
        "table.add_row([' RBF', rbf[0], rbf[1], rbf[2], rbf[3]])"
      ],
      "metadata": {
        "id": "3QP7XpewwzeO"
      },
      "execution_count": null,
      "outputs": []
    },
    {
      "cell_type": "code",
      "source": [
        "print(table)"
      ],
      "metadata": {
        "id": "byVqnUC4w2b5",
        "colab": {
          "base_uri": "https://localhost:8080/"
        },
        "outputId": "f334b75e-95d9-4b51-fd3c-73b4e4f67d48"
      },
      "execution_count": null,
      "outputs": [
        {
          "output_type": "stream",
          "name": "stdout",
          "text": [
            "+---------------------+--------------------+---------------------+--------------------+--------------------+\n",
            "|      ALGORITHM      |        ACC         |         PRE         |       RECALL       |         F1         |\n",
            "+---------------------+--------------------+---------------------+--------------------+--------------------+\n",
            "|    Random Forest    |        1.0         |         1.0         |        1.0         |        1.0         |\n",
            "| Logistic Regression | 0.9499589827727646 |  0.9500116252034411 | 0.949807917322604  | 0.9498995079494164 |\n",
            "|    Decision Tree    |        1.0         |         1.0         |        1.0         |        1.0         |\n",
            "|         kNN         | 0.9963084495488105 |  0.9962329966329966 | 0.9963944501814395 | 0.9963054902583446 |\n",
            "|        Gauss        | 0.9294503691550451 |  0.9294012709846189 | 0.9293561474877015 | 0.9293780819703052 |\n",
            "|        Linear       | 0.961033634126333  |  0.9609494959834921 | 0.9610597251496614 | 0.9610005585300606 |\n",
            "|         Poly        | 0.9995898277276456 |  0.9995769881556684 | 0.9996022275258551 | 0.9995894391904374 |\n",
            "|       Sigmoid       | 0.4811320754716981 | 0.48012740505405804 | 0.4801794118895236 | 0.4800542794826893 |\n",
            "|          RBF        | 0.9893355209187858 |  0.9897025287384231 | 0.9890691719933149 | 0.9893189598404484 |\n",
            "+---------------------+--------------------+---------------------+--------------------+--------------------+\n"
          ]
        }
      ]
    },
    {
      "cell_type": "markdown",
      "source": [
        "#Task 4.3. Apply an feature selection method to dataset obtained in Task 4.1, then apply classification algorithm to the obtained dataset. Compare the performance of classification models before and after applying the feature selection technique in term of **accuracy, precision, recall, and F1** measures"
      ],
      "metadata": {
        "id": "jOg7DfjjVZgf"
      }
    },
    {
      "cell_type": "code",
      "source": [
        "#code\n",
        "X = mushroom.drop(columns='class')\n",
        "y = mushroom['class']\n",
        "# feature extraction\n",
        "pca = PCA()\n",
        "fit = pca.fit(X)\n",
        "\n",
        "pca=PCA(n_components=int(0.5*len(X.columns)))\n",
        "X_new=pca.fit_transform(X)\n",
        "\n",
        "X_train, X_test, y_train, y_test = train_test_split(X_new, y, test_size=0.3, random_state=42)"
      ],
      "metadata": {
        "id": "tSPivXdAUu0H"
      },
      "execution_count": null,
      "outputs": []
    },
    {
      "cell_type": "code",
      "source": [
        "from prettytable import PrettyTable\n",
        "table = PrettyTable()\n",
        "table.field_names = ['ALGORITHM', 'ACC','PRE','RECALL', 'F1']"
      ],
      "metadata": {
        "id": "HNx5x-WxA_a2"
      },
      "execution_count": null,
      "outputs": []
    },
    {
      "cell_type": "code",
      "source": [
        "random_forest = measures_alg(RandomForestClassifier(n_estimators=100), X_train, X_test, y_train, y_test)\n",
        "table.add_row(['Random Forest', random_forest[0], random_forest[1], random_forest[2], random_forest[3]])"
      ],
      "metadata": {
        "id": "fK8z--lYBDDJ"
      },
      "execution_count": null,
      "outputs": []
    },
    {
      "cell_type": "code",
      "source": [
        "logistic_regression = measures_alg(LogisticRegression(), X_train, X_test, y_train, y_test)\n",
        "table.add_row(['Logistic Regression', logistic_regression[0], logistic_regression[1], logistic_regression[2], logistic_regression[3]])"
      ],
      "metadata": {
        "id": "rMbaWKYrBGFT"
      },
      "execution_count": null,
      "outputs": []
    },
    {
      "cell_type": "code",
      "source": [
        "decision_tree = measures_alg(DecisionTreeClassifier(), X_train, X_test, y_train, y_test)\n",
        "table.add_row(['Decision Tree', decision_tree[0], decision_tree[1], decision_tree[2], decision_tree[3]])"
      ],
      "metadata": {
        "id": "jFv6QCIPBIB0"
      },
      "execution_count": null,
      "outputs": []
    },
    {
      "cell_type": "code",
      "source": [
        "kNN = measures_alg(KNeighborsClassifier(n_neighbors=3), X_train, X_test, y_train, y_test)\n",
        "table.add_row(['kNN', kNN[0], kNN[1], kNN[2], kNN[3]])"
      ],
      "metadata": {
        "id": "y9koX3rjBKX8"
      },
      "execution_count": null,
      "outputs": []
    },
    {
      "cell_type": "code",
      "source": [
        "gauss = measures_alg(GaussianNB(), X_train, X_test, y_train, y_test)\n",
        "table.add_row(['Gauss ', gauss[0], gauss[1], gauss[2], gauss[3]])"
      ],
      "metadata": {
        "id": "JlxmxqVIBMqA"
      },
      "execution_count": null,
      "outputs": []
    },
    {
      "cell_type": "code",
      "source": [
        "linear = measures_alg(svm.SVC(kernel=\"linear\"), X_train, X_test, y_train, y_test)\n",
        "table.add_row(['Linear', linear[0], linear[1], linear[2], linear[3]])"
      ],
      "metadata": {
        "id": "3NgxHsdYBOLM"
      },
      "execution_count": null,
      "outputs": []
    },
    {
      "cell_type": "code",
      "source": [
        "poly = measures_alg(svm.SVC(kernel=\"poly\"), X_train, X_test, y_train, y_test)\n",
        "table.add_row(['Poly', poly[0], poly[1], poly[2], poly[3]])"
      ],
      "metadata": {
        "id": "kxwPhkGOBPyD"
      },
      "execution_count": null,
      "outputs": []
    },
    {
      "cell_type": "code",
      "source": [
        "sigmoid = measures_alg(svm.SVC(kernel=\"sigmoid\"), X_train, X_test, y_train, y_test)\n",
        "table.add_row(['Sigmoid', sigmoid[0], sigmoid[1], sigmoid[2], sigmoid[3]])"
      ],
      "metadata": {
        "id": "SGIZ8sJSBR8A"
      },
      "execution_count": null,
      "outputs": []
    },
    {
      "cell_type": "code",
      "source": [
        "rbf = measures_alg(svm.SVC(kernel=\"rbf\"), X_train, X_test, y_train, y_test)\n",
        "table.add_row([' RBF', rbf[0], rbf[1], rbf[2], rbf[3]])"
      ],
      "metadata": {
        "id": "94Ekfee5BTTp"
      },
      "execution_count": null,
      "outputs": []
    },
    {
      "cell_type": "code",
      "source": [
        "print(table)"
      ],
      "metadata": {
        "colab": {
          "base_uri": "https://localhost:8080/"
        },
        "id": "Du3ARsN4BUvI",
        "outputId": "39c0f8c8-d126-497f-fc4e-33ed4fb1a828"
      },
      "execution_count": null,
      "outputs": [
        {
          "output_type": "stream",
          "name": "stdout",
          "text": [
            "+---------------------+--------------------+--------------------+--------------------+--------------------+\n",
            "|      ALGORITHM      |        ACC         |        PRE         |       RECALL       |         F1         |\n",
            "+---------------------+--------------------+--------------------+--------------------+--------------------+\n",
            "|    Random Forest    | 0.9958982772764561 | 0.9959499985514053 | 0.9958430923997502 | 0.9958938560094208 |\n",
            "| Logistic Regression | 0.8683347005742412 | 0.8713862979326896 | 0.8669139524842087 | 0.8676370377073039 |\n",
            "|    Decision Tree    | 0.9893355209187858 | 0.9892356264606845 | 0.9894531352621763 | 0.9893276996266345 |\n",
            "|         kNN         | 0.9930270713699754 | 0.9929236644510757 | 0.9931610752857664 | 0.9930221113509132 |\n",
            "|        Gauss        | 0.8662838392124692 | 0.8749126484975542 | 0.8639267856144457 | 0.8648628612779664 |\n",
            "|        Linear       | 0.8863822805578343 | 0.8949302462158988 | 0.8841343682827478 | 0.8852422216916647 |\n",
            "|         Poly        | 0.9811320754716981 | 0.9816413775883768 | 0.9807809543440729 | 0.9810989914788049 |\n",
            "|       Sigmoid       | 0.6439704675963905 | 0.643585503511851  | 0.6430098139664282 | 0.6430470738814817 |\n",
            "|          RBF        | 0.9901558654634947 | 0.9902658296520188 | 0.9900438998004064 | 0.9901441654982458 |\n",
            "+---------------------+--------------------+--------------------+--------------------+--------------------+\n"
          ]
        }
      ]
    },
    {
      "cell_type": "code",
      "source": [
        "mushroom"
      ],
      "metadata": {
        "colab": {
          "base_uri": "https://localhost:8080/",
          "height": 495
        },
        "id": "zMpIEKBfHG7_",
        "outputId": "e4b033a9-8ace-401b-9e95-6684ee818bb8"
      },
      "execution_count": null,
      "outputs": [
        {
          "output_type": "execute_result",
          "data": {
            "text/plain": [
              "      class  cap-shape  cap-surface  cap-color  bruises  odor  \\\n",
              "0         1          5            2          4        1     6   \n",
              "1         0          5            2          9        1     0   \n",
              "2         0          0            2          8        1     3   \n",
              "3         1          5            3          8        1     6   \n",
              "4         0          5            2          3        0     5   \n",
              "...     ...        ...          ...        ...      ...   ...   \n",
              "8119      0          3            2          4        0     5   \n",
              "8120      0          5            2          4        0     5   \n",
              "8121      0          2            2          4        0     5   \n",
              "8122      1          3            3          4        0     8   \n",
              "8123      0          5            2          4        0     5   \n",
              "\n",
              "      gill-attachment  gill-spacing  gill-size  gill-color  ...  \\\n",
              "0                   1             0          1           4  ...   \n",
              "1                   1             0          0           4  ...   \n",
              "2                   1             0          0           5  ...   \n",
              "3                   1             0          1           5  ...   \n",
              "4                   1             1          0           4  ...   \n",
              "...               ...           ...        ...         ...  ...   \n",
              "8119                0             0          0          11  ...   \n",
              "8120                0             0          0          11  ...   \n",
              "8121                0             0          0           5  ...   \n",
              "8122                1             0          1           0  ...   \n",
              "8123                0             0          0          11  ...   \n",
              "\n",
              "      stalk-surface-below-ring  stalk-color-above-ring  \\\n",
              "0                            2                       7   \n",
              "1                            2                       7   \n",
              "2                            2                       7   \n",
              "3                            2                       7   \n",
              "4                            2                       7   \n",
              "...                        ...                     ...   \n",
              "8119                         2                       5   \n",
              "8120                         2                       5   \n",
              "8121                         2                       5   \n",
              "8122                         1                       7   \n",
              "8123                         2                       5   \n",
              "\n",
              "      stalk-color-below-ring  veil-type  veil-color  ring-number  ring-type  \\\n",
              "0                          7          0           2            1          4   \n",
              "1                          7          0           2            1          4   \n",
              "2                          7          0           2            1          4   \n",
              "3                          7          0           2            1          4   \n",
              "4                          7          0           2            1          0   \n",
              "...                      ...        ...         ...          ...        ...   \n",
              "8119                       5          0           1            1          4   \n",
              "8120                       5          0           0            1          4   \n",
              "8121                       5          0           1            1          4   \n",
              "8122                       7          0           2            1          0   \n",
              "8123                       5          0           1            1          4   \n",
              "\n",
              "      spore-print-color  population  habitat  \n",
              "0                     2           3        5  \n",
              "1                     3           2        1  \n",
              "2                     3           2        3  \n",
              "3                     2           3        5  \n",
              "4                     3           0        1  \n",
              "...                 ...         ...      ...  \n",
              "8119                  0           1        2  \n",
              "8120                  0           4        2  \n",
              "8121                  0           1        2  \n",
              "8122                  7           4        2  \n",
              "8123                  4           1        2  \n",
              "\n",
              "[8124 rows x 23 columns]"
            ],
            "text/html": [
              "\n",
              "  <div id=\"df-00b3c76a-8e93-4e17-9851-a82337a3cae3\" class=\"colab-df-container\">\n",
              "    <div>\n",
              "<style scoped>\n",
              "    .dataframe tbody tr th:only-of-type {\n",
              "        vertical-align: middle;\n",
              "    }\n",
              "\n",
              "    .dataframe tbody tr th {\n",
              "        vertical-align: top;\n",
              "    }\n",
              "\n",
              "    .dataframe thead th {\n",
              "        text-align: right;\n",
              "    }\n",
              "</style>\n",
              "<table border=\"1\" class=\"dataframe\">\n",
              "  <thead>\n",
              "    <tr style=\"text-align: right;\">\n",
              "      <th></th>\n",
              "      <th>class</th>\n",
              "      <th>cap-shape</th>\n",
              "      <th>cap-surface</th>\n",
              "      <th>cap-color</th>\n",
              "      <th>bruises</th>\n",
              "      <th>odor</th>\n",
              "      <th>gill-attachment</th>\n",
              "      <th>gill-spacing</th>\n",
              "      <th>gill-size</th>\n",
              "      <th>gill-color</th>\n",
              "      <th>...</th>\n",
              "      <th>stalk-surface-below-ring</th>\n",
              "      <th>stalk-color-above-ring</th>\n",
              "      <th>stalk-color-below-ring</th>\n",
              "      <th>veil-type</th>\n",
              "      <th>veil-color</th>\n",
              "      <th>ring-number</th>\n",
              "      <th>ring-type</th>\n",
              "      <th>spore-print-color</th>\n",
              "      <th>population</th>\n",
              "      <th>habitat</th>\n",
              "    </tr>\n",
              "  </thead>\n",
              "  <tbody>\n",
              "    <tr>\n",
              "      <th>0</th>\n",
              "      <td>1</td>\n",
              "      <td>5</td>\n",
              "      <td>2</td>\n",
              "      <td>4</td>\n",
              "      <td>1</td>\n",
              "      <td>6</td>\n",
              "      <td>1</td>\n",
              "      <td>0</td>\n",
              "      <td>1</td>\n",
              "      <td>4</td>\n",
              "      <td>...</td>\n",
              "      <td>2</td>\n",
              "      <td>7</td>\n",
              "      <td>7</td>\n",
              "      <td>0</td>\n",
              "      <td>2</td>\n",
              "      <td>1</td>\n",
              "      <td>4</td>\n",
              "      <td>2</td>\n",
              "      <td>3</td>\n",
              "      <td>5</td>\n",
              "    </tr>\n",
              "    <tr>\n",
              "      <th>1</th>\n",
              "      <td>0</td>\n",
              "      <td>5</td>\n",
              "      <td>2</td>\n",
              "      <td>9</td>\n",
              "      <td>1</td>\n",
              "      <td>0</td>\n",
              "      <td>1</td>\n",
              "      <td>0</td>\n",
              "      <td>0</td>\n",
              "      <td>4</td>\n",
              "      <td>...</td>\n",
              "      <td>2</td>\n",
              "      <td>7</td>\n",
              "      <td>7</td>\n",
              "      <td>0</td>\n",
              "      <td>2</td>\n",
              "      <td>1</td>\n",
              "      <td>4</td>\n",
              "      <td>3</td>\n",
              "      <td>2</td>\n",
              "      <td>1</td>\n",
              "    </tr>\n",
              "    <tr>\n",
              "      <th>2</th>\n",
              "      <td>0</td>\n",
              "      <td>0</td>\n",
              "      <td>2</td>\n",
              "      <td>8</td>\n",
              "      <td>1</td>\n",
              "      <td>3</td>\n",
              "      <td>1</td>\n",
              "      <td>0</td>\n",
              "      <td>0</td>\n",
              "      <td>5</td>\n",
              "      <td>...</td>\n",
              "      <td>2</td>\n",
              "      <td>7</td>\n",
              "      <td>7</td>\n",
              "      <td>0</td>\n",
              "      <td>2</td>\n",
              "      <td>1</td>\n",
              "      <td>4</td>\n",
              "      <td>3</td>\n",
              "      <td>2</td>\n",
              "      <td>3</td>\n",
              "    </tr>\n",
              "    <tr>\n",
              "      <th>3</th>\n",
              "      <td>1</td>\n",
              "      <td>5</td>\n",
              "      <td>3</td>\n",
              "      <td>8</td>\n",
              "      <td>1</td>\n",
              "      <td>6</td>\n",
              "      <td>1</td>\n",
              "      <td>0</td>\n",
              "      <td>1</td>\n",
              "      <td>5</td>\n",
              "      <td>...</td>\n",
              "      <td>2</td>\n",
              "      <td>7</td>\n",
              "      <td>7</td>\n",
              "      <td>0</td>\n",
              "      <td>2</td>\n",
              "      <td>1</td>\n",
              "      <td>4</td>\n",
              "      <td>2</td>\n",
              "      <td>3</td>\n",
              "      <td>5</td>\n",
              "    </tr>\n",
              "    <tr>\n",
              "      <th>4</th>\n",
              "      <td>0</td>\n",
              "      <td>5</td>\n",
              "      <td>2</td>\n",
              "      <td>3</td>\n",
              "      <td>0</td>\n",
              "      <td>5</td>\n",
              "      <td>1</td>\n",
              "      <td>1</td>\n",
              "      <td>0</td>\n",
              "      <td>4</td>\n",
              "      <td>...</td>\n",
              "      <td>2</td>\n",
              "      <td>7</td>\n",
              "      <td>7</td>\n",
              "      <td>0</td>\n",
              "      <td>2</td>\n",
              "      <td>1</td>\n",
              "      <td>0</td>\n",
              "      <td>3</td>\n",
              "      <td>0</td>\n",
              "      <td>1</td>\n",
              "    </tr>\n",
              "    <tr>\n",
              "      <th>...</th>\n",
              "      <td>...</td>\n",
              "      <td>...</td>\n",
              "      <td>...</td>\n",
              "      <td>...</td>\n",
              "      <td>...</td>\n",
              "      <td>...</td>\n",
              "      <td>...</td>\n",
              "      <td>...</td>\n",
              "      <td>...</td>\n",
              "      <td>...</td>\n",
              "      <td>...</td>\n",
              "      <td>...</td>\n",
              "      <td>...</td>\n",
              "      <td>...</td>\n",
              "      <td>...</td>\n",
              "      <td>...</td>\n",
              "      <td>...</td>\n",
              "      <td>...</td>\n",
              "      <td>...</td>\n",
              "      <td>...</td>\n",
              "      <td>...</td>\n",
              "    </tr>\n",
              "    <tr>\n",
              "      <th>8119</th>\n",
              "      <td>0</td>\n",
              "      <td>3</td>\n",
              "      <td>2</td>\n",
              "      <td>4</td>\n",
              "      <td>0</td>\n",
              "      <td>5</td>\n",
              "      <td>0</td>\n",
              "      <td>0</td>\n",
              "      <td>0</td>\n",
              "      <td>11</td>\n",
              "      <td>...</td>\n",
              "      <td>2</td>\n",
              "      <td>5</td>\n",
              "      <td>5</td>\n",
              "      <td>0</td>\n",
              "      <td>1</td>\n",
              "      <td>1</td>\n",
              "      <td>4</td>\n",
              "      <td>0</td>\n",
              "      <td>1</td>\n",
              "      <td>2</td>\n",
              "    </tr>\n",
              "    <tr>\n",
              "      <th>8120</th>\n",
              "      <td>0</td>\n",
              "      <td>5</td>\n",
              "      <td>2</td>\n",
              "      <td>4</td>\n",
              "      <td>0</td>\n",
              "      <td>5</td>\n",
              "      <td>0</td>\n",
              "      <td>0</td>\n",
              "      <td>0</td>\n",
              "      <td>11</td>\n",
              "      <td>...</td>\n",
              "      <td>2</td>\n",
              "      <td>5</td>\n",
              "      <td>5</td>\n",
              "      <td>0</td>\n",
              "      <td>0</td>\n",
              "      <td>1</td>\n",
              "      <td>4</td>\n",
              "      <td>0</td>\n",
              "      <td>4</td>\n",
              "      <td>2</td>\n",
              "    </tr>\n",
              "    <tr>\n",
              "      <th>8121</th>\n",
              "      <td>0</td>\n",
              "      <td>2</td>\n",
              "      <td>2</td>\n",
              "      <td>4</td>\n",
              "      <td>0</td>\n",
              "      <td>5</td>\n",
              "      <td>0</td>\n",
              "      <td>0</td>\n",
              "      <td>0</td>\n",
              "      <td>5</td>\n",
              "      <td>...</td>\n",
              "      <td>2</td>\n",
              "      <td>5</td>\n",
              "      <td>5</td>\n",
              "      <td>0</td>\n",
              "      <td>1</td>\n",
              "      <td>1</td>\n",
              "      <td>4</td>\n",
              "      <td>0</td>\n",
              "      <td>1</td>\n",
              "      <td>2</td>\n",
              "    </tr>\n",
              "    <tr>\n",
              "      <th>8122</th>\n",
              "      <td>1</td>\n",
              "      <td>3</td>\n",
              "      <td>3</td>\n",
              "      <td>4</td>\n",
              "      <td>0</td>\n",
              "      <td>8</td>\n",
              "      <td>1</td>\n",
              "      <td>0</td>\n",
              "      <td>1</td>\n",
              "      <td>0</td>\n",
              "      <td>...</td>\n",
              "      <td>1</td>\n",
              "      <td>7</td>\n",
              "      <td>7</td>\n",
              "      <td>0</td>\n",
              "      <td>2</td>\n",
              "      <td>1</td>\n",
              "      <td>0</td>\n",
              "      <td>7</td>\n",
              "      <td>4</td>\n",
              "      <td>2</td>\n",
              "    </tr>\n",
              "    <tr>\n",
              "      <th>8123</th>\n",
              "      <td>0</td>\n",
              "      <td>5</td>\n",
              "      <td>2</td>\n",
              "      <td>4</td>\n",
              "      <td>0</td>\n",
              "      <td>5</td>\n",
              "      <td>0</td>\n",
              "      <td>0</td>\n",
              "      <td>0</td>\n",
              "      <td>11</td>\n",
              "      <td>...</td>\n",
              "      <td>2</td>\n",
              "      <td>5</td>\n",
              "      <td>5</td>\n",
              "      <td>0</td>\n",
              "      <td>1</td>\n",
              "      <td>1</td>\n",
              "      <td>4</td>\n",
              "      <td>4</td>\n",
              "      <td>1</td>\n",
              "      <td>2</td>\n",
              "    </tr>\n",
              "  </tbody>\n",
              "</table>\n",
              "<p>8124 rows × 23 columns</p>\n",
              "</div>\n",
              "    <div class=\"colab-df-buttons\">\n",
              "\n",
              "  <div class=\"colab-df-container\">\n",
              "    <button class=\"colab-df-convert\" onclick=\"convertToInteractive('df-00b3c76a-8e93-4e17-9851-a82337a3cae3')\"\n",
              "            title=\"Convert this dataframe to an interactive table.\"\n",
              "            style=\"display:none;\">\n",
              "\n",
              "  <svg xmlns=\"http://www.w3.org/2000/svg\" height=\"24px\" viewBox=\"0 -960 960 960\">\n",
              "    <path d=\"M120-120v-720h720v720H120Zm60-500h600v-160H180v160Zm220 220h160v-160H400v160Zm0 220h160v-160H400v160ZM180-400h160v-160H180v160Zm440 0h160v-160H620v160ZM180-180h160v-160H180v160Zm440 0h160v-160H620v160Z\"/>\n",
              "  </svg>\n",
              "    </button>\n",
              "\n",
              "  <style>\n",
              "    .colab-df-container {\n",
              "      display:flex;\n",
              "      gap: 12px;\n",
              "    }\n",
              "\n",
              "    .colab-df-convert {\n",
              "      background-color: #E8F0FE;\n",
              "      border: none;\n",
              "      border-radius: 50%;\n",
              "      cursor: pointer;\n",
              "      display: none;\n",
              "      fill: #1967D2;\n",
              "      height: 32px;\n",
              "      padding: 0 0 0 0;\n",
              "      width: 32px;\n",
              "    }\n",
              "\n",
              "    .colab-df-convert:hover {\n",
              "      background-color: #E2EBFA;\n",
              "      box-shadow: 0px 1px 2px rgba(60, 64, 67, 0.3), 0px 1px 3px 1px rgba(60, 64, 67, 0.15);\n",
              "      fill: #174EA6;\n",
              "    }\n",
              "\n",
              "    .colab-df-buttons div {\n",
              "      margin-bottom: 4px;\n",
              "    }\n",
              "\n",
              "    [theme=dark] .colab-df-convert {\n",
              "      background-color: #3B4455;\n",
              "      fill: #D2E3FC;\n",
              "    }\n",
              "\n",
              "    [theme=dark] .colab-df-convert:hover {\n",
              "      background-color: #434B5C;\n",
              "      box-shadow: 0px 1px 3px 1px rgba(0, 0, 0, 0.15);\n",
              "      filter: drop-shadow(0px 1px 2px rgba(0, 0, 0, 0.3));\n",
              "      fill: #FFFFFF;\n",
              "    }\n",
              "  </style>\n",
              "\n",
              "    <script>\n",
              "      const buttonEl =\n",
              "        document.querySelector('#df-00b3c76a-8e93-4e17-9851-a82337a3cae3 button.colab-df-convert');\n",
              "      buttonEl.style.display =\n",
              "        google.colab.kernel.accessAllowed ? 'block' : 'none';\n",
              "\n",
              "      async function convertToInteractive(key) {\n",
              "        const element = document.querySelector('#df-00b3c76a-8e93-4e17-9851-a82337a3cae3');\n",
              "        const dataTable =\n",
              "          await google.colab.kernel.invokeFunction('convertToInteractive',\n",
              "                                                    [key], {});\n",
              "        if (!dataTable) return;\n",
              "\n",
              "        const docLinkHtml = 'Like what you see? Visit the ' +\n",
              "          '<a target=\"_blank\" href=https://colab.research.google.com/notebooks/data_table.ipynb>data table notebook</a>'\n",
              "          + ' to learn more about interactive tables.';\n",
              "        element.innerHTML = '';\n",
              "        dataTable['output_type'] = 'display_data';\n",
              "        await google.colab.output.renderOutput(dataTable, element);\n",
              "        const docLink = document.createElement('div');\n",
              "        docLink.innerHTML = docLinkHtml;\n",
              "        element.appendChild(docLink);\n",
              "      }\n",
              "    </script>\n",
              "  </div>\n",
              "\n",
              "\n",
              "<div id=\"df-dd0f6235-9b31-4aa3-907e-053932fa7bbd\">\n",
              "  <button class=\"colab-df-quickchart\" onclick=\"quickchart('df-dd0f6235-9b31-4aa3-907e-053932fa7bbd')\"\n",
              "            title=\"Suggest charts\"\n",
              "            style=\"display:none;\">\n",
              "\n",
              "<svg xmlns=\"http://www.w3.org/2000/svg\" height=\"24px\"viewBox=\"0 0 24 24\"\n",
              "     width=\"24px\">\n",
              "    <g>\n",
              "        <path d=\"M19 3H5c-1.1 0-2 .9-2 2v14c0 1.1.9 2 2 2h14c1.1 0 2-.9 2-2V5c0-1.1-.9-2-2-2zM9 17H7v-7h2v7zm4 0h-2V7h2v10zm4 0h-2v-4h2v4z\"/>\n",
              "    </g>\n",
              "</svg>\n",
              "  </button>\n",
              "\n",
              "<style>\n",
              "  .colab-df-quickchart {\n",
              "      --bg-color: #E8F0FE;\n",
              "      --fill-color: #1967D2;\n",
              "      --hover-bg-color: #E2EBFA;\n",
              "      --hover-fill-color: #174EA6;\n",
              "      --disabled-fill-color: #AAA;\n",
              "      --disabled-bg-color: #DDD;\n",
              "  }\n",
              "\n",
              "  [theme=dark] .colab-df-quickchart {\n",
              "      --bg-color: #3B4455;\n",
              "      --fill-color: #D2E3FC;\n",
              "      --hover-bg-color: #434B5C;\n",
              "      --hover-fill-color: #FFFFFF;\n",
              "      --disabled-bg-color: #3B4455;\n",
              "      --disabled-fill-color: #666;\n",
              "  }\n",
              "\n",
              "  .colab-df-quickchart {\n",
              "    background-color: var(--bg-color);\n",
              "    border: none;\n",
              "    border-radius: 50%;\n",
              "    cursor: pointer;\n",
              "    display: none;\n",
              "    fill: var(--fill-color);\n",
              "    height: 32px;\n",
              "    padding: 0;\n",
              "    width: 32px;\n",
              "  }\n",
              "\n",
              "  .colab-df-quickchart:hover {\n",
              "    background-color: var(--hover-bg-color);\n",
              "    box-shadow: 0 1px 2px rgba(60, 64, 67, 0.3), 0 1px 3px 1px rgba(60, 64, 67, 0.15);\n",
              "    fill: var(--button-hover-fill-color);\n",
              "  }\n",
              "\n",
              "  .colab-df-quickchart-complete:disabled,\n",
              "  .colab-df-quickchart-complete:disabled:hover {\n",
              "    background-color: var(--disabled-bg-color);\n",
              "    fill: var(--disabled-fill-color);\n",
              "    box-shadow: none;\n",
              "  }\n",
              "\n",
              "  .colab-df-spinner {\n",
              "    border: 2px solid var(--fill-color);\n",
              "    border-color: transparent;\n",
              "    border-bottom-color: var(--fill-color);\n",
              "    animation:\n",
              "      spin 1s steps(1) infinite;\n",
              "  }\n",
              "\n",
              "  @keyframes spin {\n",
              "    0% {\n",
              "      border-color: transparent;\n",
              "      border-bottom-color: var(--fill-color);\n",
              "      border-left-color: var(--fill-color);\n",
              "    }\n",
              "    20% {\n",
              "      border-color: transparent;\n",
              "      border-left-color: var(--fill-color);\n",
              "      border-top-color: var(--fill-color);\n",
              "    }\n",
              "    30% {\n",
              "      border-color: transparent;\n",
              "      border-left-color: var(--fill-color);\n",
              "      border-top-color: var(--fill-color);\n",
              "      border-right-color: var(--fill-color);\n",
              "    }\n",
              "    40% {\n",
              "      border-color: transparent;\n",
              "      border-right-color: var(--fill-color);\n",
              "      border-top-color: var(--fill-color);\n",
              "    }\n",
              "    60% {\n",
              "      border-color: transparent;\n",
              "      border-right-color: var(--fill-color);\n",
              "    }\n",
              "    80% {\n",
              "      border-color: transparent;\n",
              "      border-right-color: var(--fill-color);\n",
              "      border-bottom-color: var(--fill-color);\n",
              "    }\n",
              "    90% {\n",
              "      border-color: transparent;\n",
              "      border-bottom-color: var(--fill-color);\n",
              "    }\n",
              "  }\n",
              "</style>\n",
              "\n",
              "  <script>\n",
              "    async function quickchart(key) {\n",
              "      const quickchartButtonEl =\n",
              "        document.querySelector('#' + key + ' button');\n",
              "      quickchartButtonEl.disabled = true;  // To prevent multiple clicks.\n",
              "      quickchartButtonEl.classList.add('colab-df-spinner');\n",
              "      try {\n",
              "        const charts = await google.colab.kernel.invokeFunction(\n",
              "            'suggestCharts', [key], {});\n",
              "      } catch (error) {\n",
              "        console.error('Error during call to suggestCharts:', error);\n",
              "      }\n",
              "      quickchartButtonEl.classList.remove('colab-df-spinner');\n",
              "      quickchartButtonEl.classList.add('colab-df-quickchart-complete');\n",
              "    }\n",
              "    (() => {\n",
              "      let quickchartButtonEl =\n",
              "        document.querySelector('#df-dd0f6235-9b31-4aa3-907e-053932fa7bbd button');\n",
              "      quickchartButtonEl.style.display =\n",
              "        google.colab.kernel.accessAllowed ? 'block' : 'none';\n",
              "    })();\n",
              "  </script>\n",
              "</div>\n",
              "    </div>\n",
              "  </div>\n"
            ],
            "application/vnd.google.colaboratory.intrinsic+json": {
              "type": "dataframe",
              "variable_name": "mushroom"
            }
          },
          "metadata": {},
          "execution_count": 77
        }
      ]
    },
    {
      "cell_type": "code",
      "source": [
        "mushroom"
      ],
      "metadata": {
        "colab": {
          "base_uri": "https://localhost:8080/",
          "height": 495
        },
        "id": "CU6leNK0HaU5",
        "outputId": "0a79c29c-a1ca-4943-d933-b8afd53303d5"
      },
      "execution_count": null,
      "outputs": [
        {
          "output_type": "execute_result",
          "data": {
            "text/plain": [
              "      class  cap-shape  cap-surface  cap-color  bruises  odor  \\\n",
              "0         1          5            2          4        1     6   \n",
              "1         0          5            2          9        1     0   \n",
              "2         0          0            2          8        1     3   \n",
              "3         1          5            3          8        1     6   \n",
              "4         0          5            2          3        0     5   \n",
              "...     ...        ...          ...        ...      ...   ...   \n",
              "8119      0          3            2          4        0     5   \n",
              "8120      0          5            2          4        0     5   \n",
              "8121      0          2            2          4        0     5   \n",
              "8122      1          3            3          4        0     8   \n",
              "8123      0          5            2          4        0     5   \n",
              "\n",
              "      gill-attachment  gill-spacing  gill-size  gill-color  ...  \\\n",
              "0                   1             0          1           4  ...   \n",
              "1                   1             0          0           4  ...   \n",
              "2                   1             0          0           5  ...   \n",
              "3                   1             0          1           5  ...   \n",
              "4                   1             1          0           4  ...   \n",
              "...               ...           ...        ...         ...  ...   \n",
              "8119                0             0          0          11  ...   \n",
              "8120                0             0          0          11  ...   \n",
              "8121                0             0          0           5  ...   \n",
              "8122                1             0          1           0  ...   \n",
              "8123                0             0          0          11  ...   \n",
              "\n",
              "      stalk-surface-below-ring  stalk-color-above-ring  \\\n",
              "0                            2                       7   \n",
              "1                            2                       7   \n",
              "2                            2                       7   \n",
              "3                            2                       7   \n",
              "4                            2                       7   \n",
              "...                        ...                     ...   \n",
              "8119                         2                       5   \n",
              "8120                         2                       5   \n",
              "8121                         2                       5   \n",
              "8122                         1                       7   \n",
              "8123                         2                       5   \n",
              "\n",
              "      stalk-color-below-ring  veil-type  veil-color  ring-number  ring-type  \\\n",
              "0                          7          0           2            1          4   \n",
              "1                          7          0           2            1          4   \n",
              "2                          7          0           2            1          4   \n",
              "3                          7          0           2            1          4   \n",
              "4                          7          0           2            1          0   \n",
              "...                      ...        ...         ...          ...        ...   \n",
              "8119                       5          0           1            1          4   \n",
              "8120                       5          0           0            1          4   \n",
              "8121                       5          0           1            1          4   \n",
              "8122                       7          0           2            1          0   \n",
              "8123                       5          0           1            1          4   \n",
              "\n",
              "      spore-print-color  population  habitat  \n",
              "0                     2           3        5  \n",
              "1                     3           2        1  \n",
              "2                     3           2        3  \n",
              "3                     2           3        5  \n",
              "4                     3           0        1  \n",
              "...                 ...         ...      ...  \n",
              "8119                  0           1        2  \n",
              "8120                  0           4        2  \n",
              "8121                  0           1        2  \n",
              "8122                  7           4        2  \n",
              "8123                  4           1        2  \n",
              "\n",
              "[8124 rows x 23 columns]"
            ],
            "text/html": [
              "\n",
              "  <div id=\"df-ebd59f41-660f-4a5e-87d5-30ad94d4a0e8\" class=\"colab-df-container\">\n",
              "    <div>\n",
              "<style scoped>\n",
              "    .dataframe tbody tr th:only-of-type {\n",
              "        vertical-align: middle;\n",
              "    }\n",
              "\n",
              "    .dataframe tbody tr th {\n",
              "        vertical-align: top;\n",
              "    }\n",
              "\n",
              "    .dataframe thead th {\n",
              "        text-align: right;\n",
              "    }\n",
              "</style>\n",
              "<table border=\"1\" class=\"dataframe\">\n",
              "  <thead>\n",
              "    <tr style=\"text-align: right;\">\n",
              "      <th></th>\n",
              "      <th>class</th>\n",
              "      <th>cap-shape</th>\n",
              "      <th>cap-surface</th>\n",
              "      <th>cap-color</th>\n",
              "      <th>bruises</th>\n",
              "      <th>odor</th>\n",
              "      <th>gill-attachment</th>\n",
              "      <th>gill-spacing</th>\n",
              "      <th>gill-size</th>\n",
              "      <th>gill-color</th>\n",
              "      <th>...</th>\n",
              "      <th>stalk-surface-below-ring</th>\n",
              "      <th>stalk-color-above-ring</th>\n",
              "      <th>stalk-color-below-ring</th>\n",
              "      <th>veil-type</th>\n",
              "      <th>veil-color</th>\n",
              "      <th>ring-number</th>\n",
              "      <th>ring-type</th>\n",
              "      <th>spore-print-color</th>\n",
              "      <th>population</th>\n",
              "      <th>habitat</th>\n",
              "    </tr>\n",
              "  </thead>\n",
              "  <tbody>\n",
              "    <tr>\n",
              "      <th>0</th>\n",
              "      <td>1</td>\n",
              "      <td>5</td>\n",
              "      <td>2</td>\n",
              "      <td>4</td>\n",
              "      <td>1</td>\n",
              "      <td>6</td>\n",
              "      <td>1</td>\n",
              "      <td>0</td>\n",
              "      <td>1</td>\n",
              "      <td>4</td>\n",
              "      <td>...</td>\n",
              "      <td>2</td>\n",
              "      <td>7</td>\n",
              "      <td>7</td>\n",
              "      <td>0</td>\n",
              "      <td>2</td>\n",
              "      <td>1</td>\n",
              "      <td>4</td>\n",
              "      <td>2</td>\n",
              "      <td>3</td>\n",
              "      <td>5</td>\n",
              "    </tr>\n",
              "    <tr>\n",
              "      <th>1</th>\n",
              "      <td>0</td>\n",
              "      <td>5</td>\n",
              "      <td>2</td>\n",
              "      <td>9</td>\n",
              "      <td>1</td>\n",
              "      <td>0</td>\n",
              "      <td>1</td>\n",
              "      <td>0</td>\n",
              "      <td>0</td>\n",
              "      <td>4</td>\n",
              "      <td>...</td>\n",
              "      <td>2</td>\n",
              "      <td>7</td>\n",
              "      <td>7</td>\n",
              "      <td>0</td>\n",
              "      <td>2</td>\n",
              "      <td>1</td>\n",
              "      <td>4</td>\n",
              "      <td>3</td>\n",
              "      <td>2</td>\n",
              "      <td>1</td>\n",
              "    </tr>\n",
              "    <tr>\n",
              "      <th>2</th>\n",
              "      <td>0</td>\n",
              "      <td>0</td>\n",
              "      <td>2</td>\n",
              "      <td>8</td>\n",
              "      <td>1</td>\n",
              "      <td>3</td>\n",
              "      <td>1</td>\n",
              "      <td>0</td>\n",
              "      <td>0</td>\n",
              "      <td>5</td>\n",
              "      <td>...</td>\n",
              "      <td>2</td>\n",
              "      <td>7</td>\n",
              "      <td>7</td>\n",
              "      <td>0</td>\n",
              "      <td>2</td>\n",
              "      <td>1</td>\n",
              "      <td>4</td>\n",
              "      <td>3</td>\n",
              "      <td>2</td>\n",
              "      <td>3</td>\n",
              "    </tr>\n",
              "    <tr>\n",
              "      <th>3</th>\n",
              "      <td>1</td>\n",
              "      <td>5</td>\n",
              "      <td>3</td>\n",
              "      <td>8</td>\n",
              "      <td>1</td>\n",
              "      <td>6</td>\n",
              "      <td>1</td>\n",
              "      <td>0</td>\n",
              "      <td>1</td>\n",
              "      <td>5</td>\n",
              "      <td>...</td>\n",
              "      <td>2</td>\n",
              "      <td>7</td>\n",
              "      <td>7</td>\n",
              "      <td>0</td>\n",
              "      <td>2</td>\n",
              "      <td>1</td>\n",
              "      <td>4</td>\n",
              "      <td>2</td>\n",
              "      <td>3</td>\n",
              "      <td>5</td>\n",
              "    </tr>\n",
              "    <tr>\n",
              "      <th>4</th>\n",
              "      <td>0</td>\n",
              "      <td>5</td>\n",
              "      <td>2</td>\n",
              "      <td>3</td>\n",
              "      <td>0</td>\n",
              "      <td>5</td>\n",
              "      <td>1</td>\n",
              "      <td>1</td>\n",
              "      <td>0</td>\n",
              "      <td>4</td>\n",
              "      <td>...</td>\n",
              "      <td>2</td>\n",
              "      <td>7</td>\n",
              "      <td>7</td>\n",
              "      <td>0</td>\n",
              "      <td>2</td>\n",
              "      <td>1</td>\n",
              "      <td>0</td>\n",
              "      <td>3</td>\n",
              "      <td>0</td>\n",
              "      <td>1</td>\n",
              "    </tr>\n",
              "    <tr>\n",
              "      <th>...</th>\n",
              "      <td>...</td>\n",
              "      <td>...</td>\n",
              "      <td>...</td>\n",
              "      <td>...</td>\n",
              "      <td>...</td>\n",
              "      <td>...</td>\n",
              "      <td>...</td>\n",
              "      <td>...</td>\n",
              "      <td>...</td>\n",
              "      <td>...</td>\n",
              "      <td>...</td>\n",
              "      <td>...</td>\n",
              "      <td>...</td>\n",
              "      <td>...</td>\n",
              "      <td>...</td>\n",
              "      <td>...</td>\n",
              "      <td>...</td>\n",
              "      <td>...</td>\n",
              "      <td>...</td>\n",
              "      <td>...</td>\n",
              "      <td>...</td>\n",
              "    </tr>\n",
              "    <tr>\n",
              "      <th>8119</th>\n",
              "      <td>0</td>\n",
              "      <td>3</td>\n",
              "      <td>2</td>\n",
              "      <td>4</td>\n",
              "      <td>0</td>\n",
              "      <td>5</td>\n",
              "      <td>0</td>\n",
              "      <td>0</td>\n",
              "      <td>0</td>\n",
              "      <td>11</td>\n",
              "      <td>...</td>\n",
              "      <td>2</td>\n",
              "      <td>5</td>\n",
              "      <td>5</td>\n",
              "      <td>0</td>\n",
              "      <td>1</td>\n",
              "      <td>1</td>\n",
              "      <td>4</td>\n",
              "      <td>0</td>\n",
              "      <td>1</td>\n",
              "      <td>2</td>\n",
              "    </tr>\n",
              "    <tr>\n",
              "      <th>8120</th>\n",
              "      <td>0</td>\n",
              "      <td>5</td>\n",
              "      <td>2</td>\n",
              "      <td>4</td>\n",
              "      <td>0</td>\n",
              "      <td>5</td>\n",
              "      <td>0</td>\n",
              "      <td>0</td>\n",
              "      <td>0</td>\n",
              "      <td>11</td>\n",
              "      <td>...</td>\n",
              "      <td>2</td>\n",
              "      <td>5</td>\n",
              "      <td>5</td>\n",
              "      <td>0</td>\n",
              "      <td>0</td>\n",
              "      <td>1</td>\n",
              "      <td>4</td>\n",
              "      <td>0</td>\n",
              "      <td>4</td>\n",
              "      <td>2</td>\n",
              "    </tr>\n",
              "    <tr>\n",
              "      <th>8121</th>\n",
              "      <td>0</td>\n",
              "      <td>2</td>\n",
              "      <td>2</td>\n",
              "      <td>4</td>\n",
              "      <td>0</td>\n",
              "      <td>5</td>\n",
              "      <td>0</td>\n",
              "      <td>0</td>\n",
              "      <td>0</td>\n",
              "      <td>5</td>\n",
              "      <td>...</td>\n",
              "      <td>2</td>\n",
              "      <td>5</td>\n",
              "      <td>5</td>\n",
              "      <td>0</td>\n",
              "      <td>1</td>\n",
              "      <td>1</td>\n",
              "      <td>4</td>\n",
              "      <td>0</td>\n",
              "      <td>1</td>\n",
              "      <td>2</td>\n",
              "    </tr>\n",
              "    <tr>\n",
              "      <th>8122</th>\n",
              "      <td>1</td>\n",
              "      <td>3</td>\n",
              "      <td>3</td>\n",
              "      <td>4</td>\n",
              "      <td>0</td>\n",
              "      <td>8</td>\n",
              "      <td>1</td>\n",
              "      <td>0</td>\n",
              "      <td>1</td>\n",
              "      <td>0</td>\n",
              "      <td>...</td>\n",
              "      <td>1</td>\n",
              "      <td>7</td>\n",
              "      <td>7</td>\n",
              "      <td>0</td>\n",
              "      <td>2</td>\n",
              "      <td>1</td>\n",
              "      <td>0</td>\n",
              "      <td>7</td>\n",
              "      <td>4</td>\n",
              "      <td>2</td>\n",
              "    </tr>\n",
              "    <tr>\n",
              "      <th>8123</th>\n",
              "      <td>0</td>\n",
              "      <td>5</td>\n",
              "      <td>2</td>\n",
              "      <td>4</td>\n",
              "      <td>0</td>\n",
              "      <td>5</td>\n",
              "      <td>0</td>\n",
              "      <td>0</td>\n",
              "      <td>0</td>\n",
              "      <td>11</td>\n",
              "      <td>...</td>\n",
              "      <td>2</td>\n",
              "      <td>5</td>\n",
              "      <td>5</td>\n",
              "      <td>0</td>\n",
              "      <td>1</td>\n",
              "      <td>1</td>\n",
              "      <td>4</td>\n",
              "      <td>4</td>\n",
              "      <td>1</td>\n",
              "      <td>2</td>\n",
              "    </tr>\n",
              "  </tbody>\n",
              "</table>\n",
              "<p>8124 rows × 23 columns</p>\n",
              "</div>\n",
              "    <div class=\"colab-df-buttons\">\n",
              "\n",
              "  <div class=\"colab-df-container\">\n",
              "    <button class=\"colab-df-convert\" onclick=\"convertToInteractive('df-ebd59f41-660f-4a5e-87d5-30ad94d4a0e8')\"\n",
              "            title=\"Convert this dataframe to an interactive table.\"\n",
              "            style=\"display:none;\">\n",
              "\n",
              "  <svg xmlns=\"http://www.w3.org/2000/svg\" height=\"24px\" viewBox=\"0 -960 960 960\">\n",
              "    <path d=\"M120-120v-720h720v720H120Zm60-500h600v-160H180v160Zm220 220h160v-160H400v160Zm0 220h160v-160H400v160ZM180-400h160v-160H180v160Zm440 0h160v-160H620v160ZM180-180h160v-160H180v160Zm440 0h160v-160H620v160Z\"/>\n",
              "  </svg>\n",
              "    </button>\n",
              "\n",
              "  <style>\n",
              "    .colab-df-container {\n",
              "      display:flex;\n",
              "      gap: 12px;\n",
              "    }\n",
              "\n",
              "    .colab-df-convert {\n",
              "      background-color: #E8F0FE;\n",
              "      border: none;\n",
              "      border-radius: 50%;\n",
              "      cursor: pointer;\n",
              "      display: none;\n",
              "      fill: #1967D2;\n",
              "      height: 32px;\n",
              "      padding: 0 0 0 0;\n",
              "      width: 32px;\n",
              "    }\n",
              "\n",
              "    .colab-df-convert:hover {\n",
              "      background-color: #E2EBFA;\n",
              "      box-shadow: 0px 1px 2px rgba(60, 64, 67, 0.3), 0px 1px 3px 1px rgba(60, 64, 67, 0.15);\n",
              "      fill: #174EA6;\n",
              "    }\n",
              "\n",
              "    .colab-df-buttons div {\n",
              "      margin-bottom: 4px;\n",
              "    }\n",
              "\n",
              "    [theme=dark] .colab-df-convert {\n",
              "      background-color: #3B4455;\n",
              "      fill: #D2E3FC;\n",
              "    }\n",
              "\n",
              "    [theme=dark] .colab-df-convert:hover {\n",
              "      background-color: #434B5C;\n",
              "      box-shadow: 0px 1px 3px 1px rgba(0, 0, 0, 0.15);\n",
              "      filter: drop-shadow(0px 1px 2px rgba(0, 0, 0, 0.3));\n",
              "      fill: #FFFFFF;\n",
              "    }\n",
              "  </style>\n",
              "\n",
              "    <script>\n",
              "      const buttonEl =\n",
              "        document.querySelector('#df-ebd59f41-660f-4a5e-87d5-30ad94d4a0e8 button.colab-df-convert');\n",
              "      buttonEl.style.display =\n",
              "        google.colab.kernel.accessAllowed ? 'block' : 'none';\n",
              "\n",
              "      async function convertToInteractive(key) {\n",
              "        const element = document.querySelector('#df-ebd59f41-660f-4a5e-87d5-30ad94d4a0e8');\n",
              "        const dataTable =\n",
              "          await google.colab.kernel.invokeFunction('convertToInteractive',\n",
              "                                                    [key], {});\n",
              "        if (!dataTable) return;\n",
              "\n",
              "        const docLinkHtml = 'Like what you see? Visit the ' +\n",
              "          '<a target=\"_blank\" href=https://colab.research.google.com/notebooks/data_table.ipynb>data table notebook</a>'\n",
              "          + ' to learn more about interactive tables.';\n",
              "        element.innerHTML = '';\n",
              "        dataTable['output_type'] = 'display_data';\n",
              "        await google.colab.output.renderOutput(dataTable, element);\n",
              "        const docLink = document.createElement('div');\n",
              "        docLink.innerHTML = docLinkHtml;\n",
              "        element.appendChild(docLink);\n",
              "      }\n",
              "    </script>\n",
              "  </div>\n",
              "\n",
              "\n",
              "<div id=\"df-f81d3ad8-c5d1-4072-a181-69713a83d5e2\">\n",
              "  <button class=\"colab-df-quickchart\" onclick=\"quickchart('df-f81d3ad8-c5d1-4072-a181-69713a83d5e2')\"\n",
              "            title=\"Suggest charts\"\n",
              "            style=\"display:none;\">\n",
              "\n",
              "<svg xmlns=\"http://www.w3.org/2000/svg\" height=\"24px\"viewBox=\"0 0 24 24\"\n",
              "     width=\"24px\">\n",
              "    <g>\n",
              "        <path d=\"M19 3H5c-1.1 0-2 .9-2 2v14c0 1.1.9 2 2 2h14c1.1 0 2-.9 2-2V5c0-1.1-.9-2-2-2zM9 17H7v-7h2v7zm4 0h-2V7h2v10zm4 0h-2v-4h2v4z\"/>\n",
              "    </g>\n",
              "</svg>\n",
              "  </button>\n",
              "\n",
              "<style>\n",
              "  .colab-df-quickchart {\n",
              "      --bg-color: #E8F0FE;\n",
              "      --fill-color: #1967D2;\n",
              "      --hover-bg-color: #E2EBFA;\n",
              "      --hover-fill-color: #174EA6;\n",
              "      --disabled-fill-color: #AAA;\n",
              "      --disabled-bg-color: #DDD;\n",
              "  }\n",
              "\n",
              "  [theme=dark] .colab-df-quickchart {\n",
              "      --bg-color: #3B4455;\n",
              "      --fill-color: #D2E3FC;\n",
              "      --hover-bg-color: #434B5C;\n",
              "      --hover-fill-color: #FFFFFF;\n",
              "      --disabled-bg-color: #3B4455;\n",
              "      --disabled-fill-color: #666;\n",
              "  }\n",
              "\n",
              "  .colab-df-quickchart {\n",
              "    background-color: var(--bg-color);\n",
              "    border: none;\n",
              "    border-radius: 50%;\n",
              "    cursor: pointer;\n",
              "    display: none;\n",
              "    fill: var(--fill-color);\n",
              "    height: 32px;\n",
              "    padding: 0;\n",
              "    width: 32px;\n",
              "  }\n",
              "\n",
              "  .colab-df-quickchart:hover {\n",
              "    background-color: var(--hover-bg-color);\n",
              "    box-shadow: 0 1px 2px rgba(60, 64, 67, 0.3), 0 1px 3px 1px rgba(60, 64, 67, 0.15);\n",
              "    fill: var(--button-hover-fill-color);\n",
              "  }\n",
              "\n",
              "  .colab-df-quickchart-complete:disabled,\n",
              "  .colab-df-quickchart-complete:disabled:hover {\n",
              "    background-color: var(--disabled-bg-color);\n",
              "    fill: var(--disabled-fill-color);\n",
              "    box-shadow: none;\n",
              "  }\n",
              "\n",
              "  .colab-df-spinner {\n",
              "    border: 2px solid var(--fill-color);\n",
              "    border-color: transparent;\n",
              "    border-bottom-color: var(--fill-color);\n",
              "    animation:\n",
              "      spin 1s steps(1) infinite;\n",
              "  }\n",
              "\n",
              "  @keyframes spin {\n",
              "    0% {\n",
              "      border-color: transparent;\n",
              "      border-bottom-color: var(--fill-color);\n",
              "      border-left-color: var(--fill-color);\n",
              "    }\n",
              "    20% {\n",
              "      border-color: transparent;\n",
              "      border-left-color: var(--fill-color);\n",
              "      border-top-color: var(--fill-color);\n",
              "    }\n",
              "    30% {\n",
              "      border-color: transparent;\n",
              "      border-left-color: var(--fill-color);\n",
              "      border-top-color: var(--fill-color);\n",
              "      border-right-color: var(--fill-color);\n",
              "    }\n",
              "    40% {\n",
              "      border-color: transparent;\n",
              "      border-right-color: var(--fill-color);\n",
              "      border-top-color: var(--fill-color);\n",
              "    }\n",
              "    60% {\n",
              "      border-color: transparent;\n",
              "      border-right-color: var(--fill-color);\n",
              "    }\n",
              "    80% {\n",
              "      border-color: transparent;\n",
              "      border-right-color: var(--fill-color);\n",
              "      border-bottom-color: var(--fill-color);\n",
              "    }\n",
              "    90% {\n",
              "      border-color: transparent;\n",
              "      border-bottom-color: var(--fill-color);\n",
              "    }\n",
              "  }\n",
              "</style>\n",
              "\n",
              "  <script>\n",
              "    async function quickchart(key) {\n",
              "      const quickchartButtonEl =\n",
              "        document.querySelector('#' + key + ' button');\n",
              "      quickchartButtonEl.disabled = true;  // To prevent multiple clicks.\n",
              "      quickchartButtonEl.classList.add('colab-df-spinner');\n",
              "      try {\n",
              "        const charts = await google.colab.kernel.invokeFunction(\n",
              "            'suggestCharts', [key], {});\n",
              "      } catch (error) {\n",
              "        console.error('Error during call to suggestCharts:', error);\n",
              "      }\n",
              "      quickchartButtonEl.classList.remove('colab-df-spinner');\n",
              "      quickchartButtonEl.classList.add('colab-df-quickchart-complete');\n",
              "    }\n",
              "    (() => {\n",
              "      let quickchartButtonEl =\n",
              "        document.querySelector('#df-f81d3ad8-c5d1-4072-a181-69713a83d5e2 button');\n",
              "      quickchartButtonEl.style.display =\n",
              "        google.colab.kernel.accessAllowed ? 'block' : 'none';\n",
              "    })();\n",
              "  </script>\n",
              "</div>\n",
              "    </div>\n",
              "  </div>\n"
            ],
            "application/vnd.google.colaboratory.intrinsic+json": {
              "type": "dataframe",
              "variable_name": "mushroom"
            }
          },
          "metadata": {},
          "execution_count": 78
        }
      ]
    },
    {
      "cell_type": "markdown",
      "source": [
        "#Finally,\n",
        "Save a copy in your Github. Remember renaming the notebook."
      ],
      "metadata": {
        "id": "Ok7RGkea_b7n"
      }
    }
  ]
}